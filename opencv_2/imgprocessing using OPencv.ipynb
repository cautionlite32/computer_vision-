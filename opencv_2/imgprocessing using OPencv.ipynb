{
 "cells": [
  {
   "cell_type": "code",
   "execution_count": 2,
   "id": "830ffd2a-da44-4b35-9d7e-034eeb2df13f",
   "metadata": {},
   "outputs": [],
   "source": [
    "import cv2"
   ]
  },
  {
   "cell_type": "code",
   "execution_count": 3,
   "id": "c429fa53-1ed2-44fa-a8a5-14f28bdb3a95",
   "metadata": {},
   "outputs": [],
   "source": [
    "img = cv2.imread('imgs/RGBY.jpg', 1)"
   ]
  },
  {
   "cell_type": "code",
   "execution_count": 6,
   "id": "9097c574-093d-465e-9e1d-553eb59aee6e",
   "metadata": {},
   "outputs": [],
   "source": [
    "# method 1\n",
    "blue = img[:, :, 0]\n",
    "green = img[:, :, 1]\n",
    "red = img[:, :, 2]"
   ]
  },
  {
   "cell_type": "code",
   "execution_count": 8,
   "id": "679a90f9-6cbe-4145-9be5-770af2f5a624",
   "metadata": {},
   "outputs": [],
   "source": [
    "#method 2\n",
    "blue, green, red = cv2.split(img)"
   ]
  },
  {
   "cell_type": "code",
   "execution_count": 11,
   "id": "e948b69a-125b-41d3-96ab-cf36157fc0d7",
   "metadata": {},
   "outputs": [],
   "source": [
    "img1 = cv2.merge((blue, green, red))"
   ]
  },
  {
   "cell_type": "code",
   "execution_count": 12,
   "id": "e20940ae-52da-4dd6-b9d7-c982e453d7fb",
   "metadata": {},
   "outputs": [],
   "source": [
    "cv2.imshow('blue_image', blue)\n",
    "cv2.imshow('green', green)\n",
    "cv2.imshow('red', red)\n",
    "cv2.imshow('image', img1)\n",
    "cv2.waitKey(0)\n",
    "cv2.destroyAllWindows()"
   ]
  },
  {
   "cell_type": "code",
   "execution_count": 13,
   "id": "a19cdffc-085e-4471-ac6c-58fe0bcecbc0",
   "metadata": {},
   "outputs": [],
   "source": [
    "# fx and fy are scaling factors also interpolation is used to fill the gaps in excess\n",
    "resized = cv2.resize(img, None, fx=2, fy=2, interpolation = cv2.INTER_CUBIC)"
   ]
  },
  {
   "cell_type": "code",
   "execution_count": 14,
   "id": "b5a804ba-e7eb-4090-9de0-0b67bf7bad7f",
   "metadata": {},
   "outputs": [],
   "source": [
    "cv2.imshow('huwaw_image', resized)\n",
    "cv2.waitKey(0)\n",
    "cv2.destroyAllWindows()"
   ]
  },
  {
   "cell_type": "markdown",
   "id": "bf1de570-037c-4ad2-9702-3b1e02cb03d4",
   "metadata": {},
   "source": [
    "# DENOSING AND EDGE DETECTION"
   ]
  },
  {
   "cell_type": "code",
   "execution_count": 15,
   "id": "1ce1eb74-ebb8-4691-9076-03eb20f71248",
   "metadata": {},
   "outputs": [],
   "source": [
    "import cv2\n",
    "import numpy as np\n",
    "import matplotlib.pyplot as plt"
   ]
  },
  {
   "cell_type": "code",
   "execution_count": 16,
   "id": "10ef3116-8a6d-4080-868b-fb9aa515aa16",
   "metadata": {},
   "outputs": [],
   "source": [
    "img = cv2.imread('imgs/BSE_Google_noisy.jpg', 1)"
   ]
  },
  {
   "cell_type": "code",
   "execution_count": 17,
   "id": "df00ba1a-ee76-4b72-ab56-dc4451975761",
   "metadata": {},
   "outputs": [],
   "source": [
    "kernel = np.ones((5,5), np.float32)/25"
   ]
  },
  {
   "cell_type": "code",
   "execution_count": 25,
   "id": "cbaddfef-184c-41be-8c65-0f3d600461c2",
   "metadata": {},
   "outputs": [],
   "source": [
    "blur = cv2.blur(img, (5,5))\n",
    "gaussian = cv2.GaussianBlur(img, (5,5), 0)\n",
    "median = cv2.medianBlur(img, 5)"
   ]
  },
  {
   "cell_type": "code",
   "execution_count": 27,
   "id": "4b7a6e97-8636-4c5b-9449-6d6e5bcd6f0d",
   "metadata": {},
   "outputs": [],
   "source": [
    "filter = cv2.filter2D(img, -1, kernel)\n",
    "bilateral = cv2.bilateralFilter(img, 9, 75, 75)"
   ]
  },
  {
   "cell_type": "code",
   "execution_count": 28,
   "id": "998c0853-e85c-420d-a1cb-fbcb73725fe2",
   "metadata": {},
   "outputs": [],
   "source": [
    "cv2.imshow('img', img)\n",
    "cv2.imshow('filter', filter)\n",
    "cv2.imshow('blur', blur)\n",
    "cv2.imshow('med', median)\n",
    "cv2.imshow('gaussian', gaussian)\n",
    "cv2.imshow('bi', bilateral)\n",
    "cv2.waitKey(0)\n",
    "cv2.destroyAllWindows()"
   ]
  },
  {
   "cell_type": "code",
   "execution_count": 30,
   "id": "95e365f9-aef1-444e-807d-dd0e013a0e10",
   "metadata": {},
   "outputs": [],
   "source": [
    "# Edge detection \n",
    "img = cv2.imread('imgs/Neuron.jpg', 0)"
   ]
  },
  {
   "cell_type": "code",
   "execution_count": 33,
   "id": "829ffb67-eadc-4d3a-bb15-08adccb69e6b",
   "metadata": {},
   "outputs": [],
   "source": [
    "edges = cv2.Canny(img, 10, 200)"
   ]
  },
  {
   "cell_type": "code",
   "execution_count": 35,
   "id": "d59570ea-1d88-4a90-9759-153587cf507e",
   "metadata": {},
   "outputs": [],
   "source": [
    "cv2.imshow('ed', edges)\n",
    "cv2.waitKey(0)\n",
    "cv2.destroyAllWindows()"
   ]
  },
  {
   "cell_type": "markdown",
   "id": "bfe635fd-7d63-46fe-8027-1819ebaac3c1",
   "metadata": {},
   "source": [
    "# CANNY EDGE DETECTION \n",
    "## What is Canny Edge Detection?\r\n",
    "\r\n",
    "Canny edge detection is a popular and widely used algorithm for detecting edges in images. It was developed by John F. Canny in 1986 and has become a fundamental tool in computer vision and image analysis. The goal of the Canny edge detection algorithm is to:\r\n",
    "\r\n",
    "1. **Minimize error**: Edges detected should be real edges, not noise.\r\n",
    "2. **Good localization**: Minimize the distance between detected edge pixels and real edge pixels.\r\n",
    "3. **Minimal response**: Avoid multiple responses to a single edge.\r\n",
    "\r\n",
    "## How Canny Edge Detection Works\r\n",
    "\r\n",
    "The Canny edge detection algorithm consists of the following steps:\r\n",
    "\r\n",
    "1. **Gaussian filtering**: The input image is smoothed with a Gaussian filter to remove noise[1][2][3].\r\n",
    "2. **Gradient calculation**: The intensity gradients of the image are calculated using a Sobel or Prewitt kernel[1][2][3].\r\n",
    "3. **Non-maximum suppression**: Pixels that are not part of an edge are suppressed, thinning the edges[1][2][3].\r\n",
    "4. **Double thresholding**: Potential edges are determined by thresholding. Pixels above a high threshold are marked as strong edges, pixels below a low threshold are suppressed, and pixels between the two thresholds are marked as weak edges[3][4].\r\n",
    "5. **Edge tracking by hysteresis**: Strong edges are immediately included in the final edge map. Weak edges are included only if they are connected to strong edges[3][4].\r\n",
    "\r\n",
    "## Parameters of Canny Edge Detection\r\n",
    "\r\n",
    "The Canny edge detection algorithm has several parameters that can be adjusted to control the behavior of the algorithm:\r\n",
    "\r\n",
    "1. **Gaussian kernel size**: Determines the size of the Gaussian filter used for smoothing the image[1][2][3].\r\n",
    "2. **Gaussian sigma**: Controls the standard deviation of the Gaussian filter[2][3].\r\n",
    "3. **High threshold**: Pixels with gradient magnitude above this threshold are considered strong edges[3][4].\r\n",
    "4. **Low threshold**: Pixels with gradient magnitude below this threshold are suppressed unless connected to a strong edge[3][4].\r\n",
    "\r\n",
    "## Usage in Image Processing\r\n",
    "\r\n",
    "Canny edge detection is widely used in various image processing applications, such as:\r\n",
    "\r\n",
    "- **Object detection and recognition**: Edges provide important information about the boundaries of objects in an image[1][2].\r\n",
    "- **Image segmentation**: Edges can be used to separate an image into distinct regions[4].\r\n",
    "- **Feature extraction**: Edges are often used as features for further processing, such as in machine learning algorithms[2].\r\n",
    "- **Image enhancement**: Canny edge detection can be used to enhance the edges in an image, making them more prominent[3].\r\n",
    "\r\n",
    "By adjusting the parameters of the Canny edge detection algorithm, you can control the sensitivity and accuracy of the edge detection process to suit the specific require8] https://www.youtube.com/watch?v=hUC1uoigH6s"
   ]
  },
  {
   "cell_type": "markdown",
   "id": "0a4524d9-9586-4399-a759-9d99a543eb47",
   "metadata": {},
   "source": [
    "# CLAHE \n",
    "Contrast Limited Adaptive Histogram Equalization (CLAHE) is an advanced image processing technique designed to enhance the contrast of images, particularly useful in situations where traditional histogram equalization may lead to noise amplification. Below is a detailed explanation of CLAHE, its parameters, and its applications.\r\n",
    "\r\n",
    "## What is CLAHE?\r\n",
    "\r\n",
    "CLAHE is a variant of adaptive histogram equalization (AHE) that improves the local contrast of images while preventing over-amplification of noise. Unlike traditional histogram equalization, which applies a global transformation to the entire image, CLAHE divides the image into smaller overlapping regions (tiles) and applies histogram equalization to each tile separately. This localized approach allows for better enhancement of details in different areas of the image.\r\n",
    "\r\n",
    "### Key Features of CLAHE:\r\n",
    "- **Local Contrast Enhancement**: Enhances contrast in small regions rather than the entire image.\r\n",
    "- **Noise Reduction**: Limits the amplification of noise in homogeneous areas of the image.\r\n",
    "- **Adaptive Processing**: Adjusts the enhancement based on local image characteristics.\r\n",
    "\r\n",
    "## Parameters of CLAHE\r\n",
    "\r\n",
    "1. **`clipLimit`**:\r\n",
    "   - **Type**: Float\r\n",
    "   - **Description**: This parameter sets the threshold for contrast limiting. It determines the maximum amount of contrast amplification that can be performed in each tile. A higher clip limit allows for more contrast enhancement, while a lower limit reduces the risk of noise amplification. The default value is often set around 40.\r\n",
    "\r\n",
    "2. **`tileGridSize`**:\r\n",
    "   - **Type**: Tuple (width, height)\r\n",
    "   - **Description**: This parameter defines the size of the tiles into which the image is divided for processing. It is specified in pixels and must be an even number (e.g., (8, 8)). Smaller tiles can enhance local details but may also increase computation time.\r\n",
    "\r\n",
    "## Applications and Uses of CLAHE in Image Processing\r\n",
    "\r\n",
    "CLAHE has a wide range of applications across various fields due to its effectiveness in enhancing image quality. Some notable applications include:\r\n",
    "\r\n",
    "1. **Medical Imaging**:\r\n",
    "   - **X-rays and MRI**: Enhances visibility of structures and abnormalities in medical images, aiding in diagnosis.\r\n",
    "   - **CT Scans**: Improves the detection of subtle features in dense images.\r\n",
    "\r\n",
    "2. **Remote Sensing**:\r\n",
    "   - **Satellite Imagery**: Enhances the contrast of geographical features, making it easier to analyze land use and environmental changes.\r\n",
    "\r\n",
    "3. **Computer Vision**:\r\n",
    "   - **Object Detection**: Improves the performance of algorithms by enhancing the edges and features of objects in images.\r\n",
    "   - **Facial Recognition**: Enhances facial features for better recognition accuracy.\r\n",
    "\r\n",
    "4. **Photography and Image Editing**:\r\n",
    "   - **Image Enhancement**: Used in photo editing software to improve the overall quality and contrast of images.\r\n",
    "\r\n",
    "5. **Industrial Applications**:\r\n",
    "   - **Quality Control**: Enhances images of products or materials to detect defects or inconsistencies.\r\n",
    "\r\n",
    "6. **Document Analysis**:\r\n",
    "   - **OCR (Optical Character Recognition)**: Improves the readability of scanned documents by enhancing text contrast.\r\n",
    "\r\n",
    "7. **Video Processing**:\r\n",
    "   - **Real-time Enhancement**: Used in video streams to enhance the quality of live feeds, such as in surveillance systems.\r\n",
    "\r\n",
    "CLAHE is particularly valuable in scenarios where images may have varying illumination or contain noise, making it a versatile tool in the field of image processing. Its ability to adaptively enhance contrast while preserving details makeps://www.educative.io/answers/what-is-canny-edge-detection"
   ]
  },
  {
   "cell_type": "code",
   "execution_count": 2,
   "id": "21d28ce5-b9e3-4520-8f31-ed1d2b1439f4",
   "metadata": {},
   "outputs": [],
   "source": [
    "import cv2\n",
    "import numpy as np\n",
    "from matplotlib import pyplot as plt"
   ]
  },
  {
   "cell_type": "code",
   "execution_count": 3,
   "id": "1f9147b8-4a74-4cc5-9eb2-61daf5232598",
   "metadata": {},
   "outputs": [],
   "source": [
    "img = cv2.imread('imgs/Alloy.jpg', 0)\n",
    "eq_img = cv2.equalizeHist(img)"
   ]
  },
  {
   "cell_type": "code",
   "execution_count": 4,
   "id": "a47c8865-bd82-4635-864f-0719012d283d",
   "metadata": {},
   "outputs": [
    {
     "data": {
      "text/plain": [
       "(array([ 2806.,  2883.,  2198.,  2995.,  3842.,  4802.,     0.,  5955.,\n",
       "            0.,  7166.,     0.,     0.,  8100.,     0.,  9060.,     0.,\n",
       "            0.,  9738.,     0.,     0., 10360.,     0.,     0., 10465.,\n",
       "            0.,     0.,     0., 10358.,     0.,  9942.,     0.,     0.,\n",
       "         9190.,     0.,     0.,  8483.,     0.,  7701.,     0.,  6762.,\n",
       "            0.,  5838.,  5111.,  4175.,     0.,  6687.,     0.,  5481.,\n",
       "         2375.,  4201.,  3807.,  3898.,  2077.,  4660.,  2787.,  3133.,\n",
       "         3575.,     0.,  4271.,  4856.,     0.,  5969.,     0.,  6853.,\n",
       "            0.,  8028.,     0.,     0.,  8937.,     0.,     0.,  9805.,\n",
       "            0.,     0., 10372.,     0.,     0., 10733.,     0.,     0.,\n",
       "        10978.,     0.,     0., 10701.,     0.,     0.,     0., 10043.,\n",
       "            0.,  9135.,     0.,     0.,  8058.,     0.,  6660.,  5595.,\n",
       "         4227.,     0.,  5519.,  4545.]),\n",
       " array([  0.  ,   2.55,   5.1 ,   7.65,  10.2 ,  12.75,  15.3 ,  17.85,\n",
       "         20.4 ,  22.95,  25.5 ,  28.05,  30.6 ,  33.15,  35.7 ,  38.25,\n",
       "         40.8 ,  43.35,  45.9 ,  48.45,  51.  ,  53.55,  56.1 ,  58.65,\n",
       "         61.2 ,  63.75,  66.3 ,  68.85,  71.4 ,  73.95,  76.5 ,  79.05,\n",
       "         81.6 ,  84.15,  86.7 ,  89.25,  91.8 ,  94.35,  96.9 ,  99.45,\n",
       "        102.  , 104.55, 107.1 , 109.65, 112.2 , 114.75, 117.3 , 119.85,\n",
       "        122.4 , 124.95, 127.5 , 130.05, 132.6 , 135.15, 137.7 , 140.25,\n",
       "        142.8 , 145.35, 147.9 , 150.45, 153.  , 155.55, 158.1 , 160.65,\n",
       "        163.2 , 165.75, 168.3 , 170.85, 173.4 , 175.95, 178.5 , 181.05,\n",
       "        183.6 , 186.15, 188.7 , 191.25, 193.8 , 196.35, 198.9 , 201.45,\n",
       "        204.  , 206.55, 209.1 , 211.65, 214.2 , 216.75, 219.3 , 221.85,\n",
       "        224.4 , 226.95, 229.5 , 232.05, 234.6 , 237.15, 239.7 , 242.25,\n",
       "        244.8 , 247.35, 249.9 , 252.45, 255.  ]),\n",
       " <BarContainer object of 100 artists>)"
      ]
     },
     "execution_count": 4,
     "metadata": {},
     "output_type": "execute_result"
    },
    {
     "data": {
      "image/png": "[encoded data removed]",
      "text/plain": [
       "<Figure size 640x480 with 1 Axes>"
      ]
     },
     "metadata": {},
     "output_type": "display_data"
    }
   ],
   "source": [
    "plt.hist(eq_img.flat, bins=100, range=(0, 255))"
   ]
  },
  {
   "cell_type": "code",
   "execution_count": 5,
   "id": "8bc6214b-9da8-4fe3-bd5b-62f3d5d2a522",
   "metadata": {},
   "outputs": [],
   "source": [
    "clahe = cv2.createCLAHE(clipLimit=2.0, tileGridSize=(8,8))\n",
    "cl_img = clahe.apply(img)"
   ]
  },
  {
   "cell_type": "code",
   "execution_count": 6,
   "id": "714bfc4a-238f-4b94-945a-bab07b3cc9ef",
   "metadata": {},
   "outputs": [
    {
     "data": {
      "text/plain": [
       "(array([  25.,  103.,  101.,  406.,  308.,  986.,  621., 1361.,  894.,\n",
       "        1790., 2064., 1389., 2955., 1589., 3900., 1950., 5193., 2444.,\n",
       "        6003., 3547., 6311., 7701., 4152., 7345., 4471., 8458., 3926.,\n",
       "        8013., 3813., 7837., 7288., 3331., 6621., 3056., 5904., 2790.,\n",
       "        4937., 2420., 4081., 1987., 3586., 3083., 1411., 2871., 1202.,\n",
       "        2518., 1356., 2263., 1213., 2297., 2139., 1071., 2085.,  953.,\n",
       "        2083., 1074., 2051.,  933., 2185.,  972., 2170., 2423., 1373.,\n",
       "        2583., 1498., 3401., 1713., 3849., 2134., 4868., 5327., 3075.,\n",
       "        6612., 3196., 7681., 4261., 7559., 4344., 9375., 3890., 8686.,\n",
       "        9067., 4116., 8096., 3789., 7311., 2995., 6283., 3029., 4534.,\n",
       "        4254., 1931., 2753., 1362., 2384.,  984., 1801.,  687.,  845.,\n",
       "         206.]),\n",
       " array([100.  , 101.55, 103.1 , 104.65, 106.2 , 107.75, 109.3 , 110.85,\n",
       "        112.4 , 113.95, 115.5 , 117.05, 118.6 , 120.15, 121.7 , 123.25,\n",
       "        124.8 , 126.35, 127.9 , 129.45, 131.  , 132.55, 134.1 , 135.65,\n",
       "        137.2 , 138.75, 140.3 , 141.85, 143.4 , 144.95, 146.5 , 148.05,\n",
       "        149.6 , 151.15, 152.7 , 154.25, 155.8 , 157.35, 158.9 , 160.45,\n",
       "        162.  , 163.55, 165.1 , 166.65, 168.2 , 169.75, 171.3 , 172.85,\n",
       "        174.4 , 175.95, 177.5 , 179.05, 180.6 , 182.15, 183.7 , 185.25,\n",
       "        186.8 , 188.35, 189.9 , 191.45, 193.  , 194.55, 196.1 , 197.65,\n",
       "        199.2 , 200.75, 202.3 , 203.85, 205.4 , 206.95, 208.5 , 210.05,\n",
       "        211.6 , 213.15, 214.7 , 216.25, 217.8 , 219.35, 220.9 , 222.45,\n",
       "        224.  , 225.55, 227.1 , 228.65, 230.2 , 231.75, 233.3 , 234.85,\n",
       "        236.4 , 237.95, 239.5 , 241.05, 242.6 , 244.15, 245.7 , 247.25,\n",
       "        248.8 , 250.35, 251.9 , 253.45, 255.  ]),\n",
       " <BarContainer object of 100 artists>)"
      ]
     },
     "execution_count": 6,
     "metadata": {},
     "output_type": "execute_result"
    },
    {
     "data": {
      "image/png": "[encoded data removed]",
      "text/plain": [
       "<Figure size 640x480 with 1 Axes>"
      ]
     },
     "metadata": {},
     "output_type": "display_data"
    }
   ],
   "source": [
    "plt.hist(cl_img.flat, bins=100, range=(100,255))"
   ]
  },
  {
   "cell_type": "code",
   "execution_count": 7,
   "id": "fdac7847-e128-4d7c-ab44-91db719215f9",
   "metadata": {},
   "outputs": [],
   "source": [
    "ret, thresh1 = cv2.threshold(cl_img, 190, 150, cv2.THRESH_BINARY)\n",
    "ret, thresh2 = cv2.threshold(cl_img, 190, 255, cv2.THRESH_BINARY_INV)"
   ]
  },
  {
   "cell_type": "code",
   "execution_count": 9,
   "id": "88312b39-dd51-443e-927a-097a27daf389",
   "metadata": {},
   "outputs": [],
   "source": [
    "# otsu\n",
    "ret1, thresh3 = cv2.threshold(cl_img, 0, 255, cv2.THRESH_OTSU)"
   ]
  },
  {
   "cell_type": "code",
   "execution_count": 10,
   "id": "3fd1c7a3-cb04-4d65-8eba-5d94c9d5855c",
   "metadata": {},
   "outputs": [],
   "source": [
    "cv2.imshow('Equalize_image', eq_img)\n",
    "cv2.imshow('clahe_image', cl_img)\n",
    "cv2.imshow('thresh0000_image', thresh1)\n",
    "cv2.imshow('thresh1111_image', thresh2)\n",
    "cv2.imshow('thresh222_image', thresh3)\n",
    "cv2.waitKey(0)\n",
    "cv2.destroyAllWindows()"
   ]
  },
  {
   "cell_type": "markdown",
   "id": "c9998a53-a9eb-4fc7-ac7b-63b7146831a6",
   "metadata": {},
   "source": [
    "# THRESHOLDING AND MORPHOLOGICAL OPERATIONS "
   ]
  },
  {
   "cell_type": "code",
   "execution_count": 2,
   "id": "9d78dfec-f6f1-4ac0-8fc5-2047c12bad04",
   "metadata": {},
   "outputs": [],
   "source": [
    "import cv2\n",
    "import numpy as np\n",
    "from matplotlib import pyplot as plt"
   ]
  },
  {
   "cell_type": "code",
   "execution_count": 3,
   "id": "5772ecd2-343f-40a1-a42a-019ff7a00c98",
   "metadata": {},
   "outputs": [],
   "source": [
    "img = cv2.imread('imgs/BSE_Google_noisy.jpg', 0)"
   ]
  },
  {
   "cell_type": "code",
   "execution_count": 4,
   "id": "a48fe780-7578-408c-b7b8-f62a21287f89",
   "metadata": {},
   "outputs": [
    {
     "data": {
      "text/plain": [
       "(array([ 6216.,  3814.,  3070.,  5296.,  3826.,  6341.,  4636.,  7412.,\n",
       "         5319.,  8351.,  8850.,  6204.,  9545.,  6360., 10059.,  6816.,\n",
       "        10387.,  6916., 10226.,  7094., 10164., 10139.,  6491.,  9453.,\n",
       "         6137.,  8935.,  5720.,  8194.,  5154.,  7458.,  7015.,  4492.,\n",
       "         6404.,  4145.,  6020.,  3971.,  5604.,  3685.,  5379.,  3734.,\n",
       "         5625.,  5847.,  4187.,  6577.,  4605.,  7373.,  5288.,  8568.,\n",
       "         6123.,  9900., 10694.,  7590., 12149.,  8488., 13303.,  9042.,\n",
       "        14342.,  9602., 14650.,  9905., 14914., 14461.,  9381., 13873.,\n",
       "         8981., 13011.,  8024., 11453.,  7046.,  9893.,  8870.,  5329.,\n",
       "         7316.,  4434.,  5952.,  3580.,  4626.,  2720.,  3704.,  2165.,\n",
       "         2863.,  2557.,  1549.,  2246.,  1476.,  2144.,  1422.,  2208.,\n",
       "         1523.,  2327.,  2393.,  1733.,  2614.,  1893.,  2790.,  1929.,\n",
       "         2847.,  1767.,  2345.,  4065.]),\n",
       " array([  0.  ,   2.55,   5.1 ,   7.65,  10.2 ,  12.75,  15.3 ,  17.85,\n",
       "         20.4 ,  22.95,  25.5 ,  28.05,  30.6 ,  33.15,  35.7 ,  38.25,\n",
       "         40.8 ,  43.35,  45.9 ,  48.45,  51.  ,  53.55,  56.1 ,  58.65,\n",
       "         61.2 ,  63.75,  66.3 ,  68.85,  71.4 ,  73.95,  76.5 ,  79.05,\n",
       "         81.6 ,  84.15,  86.7 ,  89.25,  91.8 ,  94.35,  96.9 ,  99.45,\n",
       "        102.  , 104.55, 107.1 , 109.65, 112.2 , 114.75, 117.3 , 119.85,\n",
       "        122.4 , 124.95, 127.5 , 130.05, 132.6 , 135.15, 137.7 , 140.25,\n",
       "        142.8 , 145.35, 147.9 , 150.45, 153.  , 155.55, 158.1 , 160.65,\n",
       "        163.2 , 165.75, 168.3 , 170.85, 173.4 , 175.95, 178.5 , 181.05,\n",
       "        183.6 , 186.15, 188.7 , 191.25, 193.8 , 196.35, 198.9 , 201.45,\n",
       "        204.  , 206.55, 209.1 , 211.65, 214.2 , 216.75, 219.3 , 221.85,\n",
       "        224.4 , 226.95, 229.5 , 232.05, 234.6 , 237.15, 239.7 , 242.25,\n",
       "        244.8 , 247.35, 249.9 , 252.45, 255.  ]),\n",
       " <BarContainer object of 100 artists>)"
      ]
     },
     "execution_count": 4,
     "metadata": {},
     "output_type": "execute_result"
    },
    {
     "data": {
      "image/png": "[encoded data removed]",
      "text/plain": [
       "<Figure size 640x480 with 1 Axes>"
      ]
     },
     "metadata": {},
     "output_type": "display_data"
    }
   ],
   "source": [
    "plt.hist(img.flat, bins=100, range=(0, 255))"
   ]
  },
  {
   "cell_type": "code",
   "execution_count": 5,
   "id": "2a7e23d3-240b-4676-952c-e27f3fc30059",
   "metadata": {},
   "outputs": [],
   "source": [
    "ret, thresh1 = cv2.threshold(img, 0, 255, cv2.THRESH_OTSU+cv2.THRESH_BINARY)"
   ]
  },
  {
   "cell_type": "code",
   "execution_count": 6,
   "id": "31ee27cb-d5a9-4d59-9f78-cb9f52004f9f",
   "metadata": {},
   "outputs": [],
   "source": [
    "kernel = np.ones((5,5), np.uint8)\n",
    "erosion = cv2.erode(thresh1, kernel, iterations = 1)\n",
    "dilation = cv2.dilate(erosion, kernel, iterations = 2)"
   ]
  },
  {
   "cell_type": "code",
   "execution_count": 10,
   "id": "9b4114e3-d602-4a03-ad85-b885fa46b9a2",
   "metadata": {},
   "outputs": [],
   "source": [
    "open = cv2.morphologyEx(thresh1, cv2.MORPH_OPEN, kernel)\n",
    "close = cv2.morphologyEx(thresh1, cv2.MORPH_CLOSE, kernel)\n",
    "top = cv2.morphologyEx(thresh1, cv2.MORPH_TOPHAT, kernel)\n",
    "gradient = cv2.morphologyEx(thresh1, cv2.MORPH_GRADIENT, kernel)"
   ]
  },
  {
   "cell_type": "code",
   "execution_count": 11,
   "id": "5e95cd50-55d7-429f-b373-587da9a13111",
   "metadata": {},
   "outputs": [],
   "source": [
    "cv2.imshow('original', img)\n",
    "cv2.imshow('otsu', thresh1)\n",
    "cv2.imshow('erosion', erosion)\n",
    "cv2.imshow('dilate', dilation)\n",
    "cv2.imshow('open', open)\n",
    "cv2.imshow('close', close)\n",
    "cv2.imshow('tophat', top)\n",
    "cv2.imshow('gradient', gradient)\n",
    "cv2.waitKey(0)\n",
    "cv2.destroyAllWindows()"
   ]
  },
  {
   "cell_type": "code",
   "execution_count": 12,
   "id": "3fa51a0d-800b-4f98-bd58-746a3a6ef59d",
   "metadata": {},
   "outputs": [],
   "source": [
    "# denoise MEDIAN OPERATION \n",
    "median = cv2.medianBlur(img, 3)"
   ]
  },
  {
   "cell_type": "code",
   "execution_count": 13,
   "id": "88c815fc-9205-4f85-b214-d27bb178d82e",
   "metadata": {},
   "outputs": [],
   "source": [
    "cv2.imshow('median', median)\n",
    "cv2.waitKey(0)\n",
    "cv2.destroyAllWindows()"
   ]
  },
  {
   "cell_type": "markdown",
   "id": "e7359d0f-f134-4cad-beb7-725b5ca20cab",
   "metadata": {},
   "source": [
    "# KEY POINTS, DETECTORS AND DISCRIPTORS\n",
    "## Key Points, Detectors and Descriptors in Image Processing\r\n",
    "\r\n",
    "Key points, also known as interest points or feature points, are specific locations in an image that are distinct and unique compared to their immediate neighborhood. These key points are typically corners, blobs, edges, or other salient features that can be reliably detected and matched across different images.\r\n",
    "\r\n",
    "Key point detection is an important task in computer vision and image processing, with applications in areas such as object recognition, image registration, 3D reconstruction, and image retrieval. The process of key point detection involves two main components:\r\n",
    "\r\n",
    "1. **Key point detectors**: These are algorithms that automatically identify the locations of key points in an image. Some popular key point detectors include:\r\n",
    "   - Harris corner detector\r\n",
    "   - SIFT (Scale-Invariant Feature Transform) detector\r\n",
    "   - SURF (Speeded-Up Robust Features) detector\r\n",
    "   - FAST (Features from Accelerated Segment Test) detector\r\n",
    "   - ORB (Oriented FAST and Rotated BRIEF) detector\r\n",
    "\r\n",
    "2. **Key point descriptors**: Once the key points have been detected, descriptors are used to describe the local neighborhood around each key point. These descriptors should be distinctive and invariant to common image transformations such as rotation, scaling, and illumination changes. Some well-known key point descriptors include:\r\n",
    "   - SIFT descriptor\r\n",
    "   - SURF descriptor\r\n",
    "   - BRIEF (Binary Robust Independent Elementary Features) descriptor\r\n",
    "   - ORB descriptor\r\n",
    "\r\n",
    "The combination of key point detectors and descriptors allows for the identification and matching of key points across multiple images. This is particularly useful in applications such as:\r\n",
    "\r\n",
    "- **Image stitching**: Aligning and combining multiple images to create a panoramic view.\r\n",
    "- **Object recognition**: Identifying and locating objects in an image based on their distinctive features.\r\n",
    "- **Image retrieval**: Finding similar images in a large database based on their key point matches.\r\n",
    "- **3D reconstruction**: Reconstructing the 3D structure of a scene from multiple 2D images.\r\n",
    "\r\n",
    "In summary, key points, detectors, and descriptors are fundamental concepts in image processing and computer vision, enabling the identification and matching of distinctive features in images for a w/28/opencv-morphological-operations/"
   ]
  },
  {
   "cell_type": "code",
   "execution_count": 14,
   "id": "093cc06c-6b92-49e5-9629-cf4a45a98418",
   "metadata": {},
   "outputs": [],
   "source": [
    "import cv2\n",
    "import numpy as np\n",
    "from matplotlib import pyplot as plt"
   ]
  },
  {
   "cell_type": "code",
   "execution_count": 16,
   "id": "6bc55e61-988b-43f7-b9e0-126c0c2ee96c",
   "metadata": {},
   "outputs": [],
   "source": [
    "img = cv2.imread('imgs/grains.jpg')"
   ]
  },
  {
   "cell_type": "code",
   "execution_count": 17,
   "id": "19cf4fae-6673-4ed3-abc9-8c997e9ebb30",
   "metadata": {},
   "outputs": [],
   "source": [
    "gray = cv2.cvtColor(img, cv2.COLOR_BGR2GRAY)\n",
    "gray = np.float32(gray)"
   ]
  },
  {
   "cell_type": "markdown",
   "id": "b31eefa4-29a0-4ecf-8226-cecd74c1772f",
   "metadata": {},
   "source": [
    "# HARRIS CORNER DETECTION \n",
    "The Harris Corner Detection algorithm is a widely used method in image processing for identifying corners in images based on intensity variations. The effectiveness of this algorithm relies on several key parameters, each serving a specific purpose in the detection process. Below is a detailed list of these parameters along with their uses:\r\n",
    "\r\n",
    "## Key Parameters in Harris Corner Detection\r\n",
    "\r\n",
    "1. **Source Image (src)**:\r\n",
    "   - **Use**: This is the input image on which corner detection is performed. It must be a grayscale image of type `float32`.\r\n",
    "\r\n",
    "2. **Block Size (blockSize)**:\r\n",
    "   - **Use**: Defines the size of the neighborhood considered for corner detection. A larger block size may capture more context but can also lead to missing smaller corners.\r\n",
    "\r\n",
    "3. **Sobel Kernel Size (ksize)**:\r\n",
    "   - **Use**: Specifies the aperture parameter for the Sobel derivative used to compute image gradients. This parameter affects the sensitivity of the edge detection; common values are 3, 5, or 7.\r\n",
    "\r\n",
    "4. **Harris Detector Free Parameter (k)**:\r\n",
    "   - **Use**: This constant, typically set between 0.04 and 0.06, is used in the Harris response function to adjust the sensitivity of corner detection. It influences the threshold for determining whether a point is classified as a corner.\r\n",
    "\r\n",
    "5. **Threshold (τ)**:\r\n",
    "   - **Use**: A threshold value is applied to the Harris response map to filter out weak corner responses. Only corners with a response greater than this threshold are considered valid.\r\n",
    "\r\n",
    "6. **Gaussian Filter Parameters (σ)**:\r\n",
    "   - **Use**: Parameters for the Gaussian filter applied to smooth the image and reduce noise before corner detection. The standard deviation (σ) controls the amount of smoothing.\r\n",
    "\r\n",
    "7. **Non-Maximum Suppression**:\r\n",
    "   - **Use**: This technique is applied after obtaining the corner response map to refine the corner detection results. It ensures that only the strongest corners are retained by suppressing weaker responses in the vicinity.\r\n",
    "\r\n",
    "## Mathematical Foundations\r\n",
    "\r\n",
    "The Harris Corner Detector operates on the principle of analyzing the intensity variations in a local neighborhood around a pixel. The key mathematical components include:\r\n",
    "\r\n",
    "- **Structure Tensor (M)**: This is derived from the gradients of the image and is used to evaluate the corner response. It is computed as:\r\n",
    "  \r\n",
    "  $$\r\n",
    "  M = \\begin{pmatrix}\r\n",
    "  I_x^2 & I_x I_y \\\\\r\n",
    "  I_x I_y & I_y^2\r\n",
    "  \\end{pmatrix}\r\n",
    "  $$\r\n",
    "\r\n",
    "- **Corner Response Function (R)**: The corner response is calculated using the determinant and trace of the structure tensor:\r\n",
    "  \r\n",
    "  $$\r\n",
    "  R = \\det(M) - k \\cdot (\\text{trace}(M))^2\r\n",
    "  $$\r\n",
    "\r\n",
    "This function helps distinguish between flat regions, edges, and corners based on the eigenvalues of the structure tensor.\r\n",
    "\r\n",
    "In summary, the Harris Corner Detection algorithm relies on a combination of image processing techniques and mathematical formulations to effectively identify corners in images. Each parameter plays a crucial role in determining the accuracy and reliability of the corner detection process, making it a fundamental t# SENSITIVITY AND IT'S TYPES\n",
    "The sensitivity of an edge detection algorithm refers to its ability to accurately detect edges in an image, particularly in the presence of noise or other challenges. In image processing, the sensitivity of edge detection has several important implications:\r\n",
    "\r\n",
    "## Noise Sensitivity\r\n",
    "\r\n",
    "Edge detection algorithms that rely on calculating derivatives, such as the Sobel or Prewitt operators, are inherently sensitive to noise in the image[3][4]. This is because the derivative operation amplifies high frequencies, which can include both edges and noise. As a result, noisy images may produce false edges or cause real edges to be missed[1].\r\n",
    "\r\n",
    "## Threshold Sensitivity\r\n",
    "\r\n",
    "Many edge detection methods use thresholds to classify pixels as edges or non-edges based on their gradient magnitude[2][3]. The choice of threshold values can significantly impact the sensitivity of the algorithm. A high threshold may miss weak edges, while a low threshold can lead to false edges being detected, especially in noisy regions[2].\r\n",
    "\r\n",
    "## Scale Sensitivity\r\n",
    "\r\n",
    "The scale at which edges are detected can also affect sensitivity. Operators like the Canny edge detector use a Gaussian smoothing filter, whose size determines the scale of edges that are preserved[2]. Larger filters can miss small, sharp edges, while smaller filters may be more sensitive to noise[2].\r\n",
    "\r\n",
    "## Sensitivity Trade-offs\r\n",
    "\r\n",
    "In general, there is a trade-off between the sensitivity and specificity of an edge detector. Increasing sensitivity to detect more edges can lead to more false positives, while decreasing sensitivity to reduce false positives may also miss some real edges[1]. Choosing the right balance depends on the specific application and requirements.\r\n",
    "\r\n",
    "To address sensitivity issues, many edge detection algorithms incorporate additional steps like non-maximum suppression and hysteresis to refine the edge map[2][3]. Preprocessing the image with a Gaussian filter can also help reduce noise sensitivity[3][4]. However, these techniques add complexity and may not completely eliminate sensitivity problems.\r\n",
    "\r\n",
    "In summary, the sensitivity of edge detection is a critical factor that determines the accuracy and reliability of the algorithm. Understanding the sensitivity characteristics of different edge detectors and tuning their parameters appropriately is essential for effective image proceub/art/2018/229/article_lr.pdfwww.naukri.com/code360/library/harris-corner-detection"
   ]
  },
  {
   "cell_type": "code",
   "execution_count": 18,
   "id": "4d4bcb32-6d08-4733-8fe7-024d2769bad5",
   "metadata": {},
   "outputs": [],
   "source": [
    "harris = cv2.cornerHarris(gray, 2, 3, 0.04)"
   ]
  },
  {
   "cell_type": "code",
   "execution_count": 19,
   "id": "3f797d02-99f4-4a2f-b56a-d3c43e0bf2e0",
   "metadata": {},
   "outputs": [],
   "source": [
    "img[harris > 0.01 * harris.max()] = [255, 0, 0]"
   ]
  },
  {
   "cell_type": "code",
   "execution_count": 20,
   "id": "380fd8d2-330a-4e89-b641-3de346f2dd77",
   "metadata": {},
   "outputs": [],
   "source": [
    "cv2.imshow('harris', img)\n",
    "cv2.waitKey(0)\n",
    "cv2.destroyAllWindows()"
   ]
  },
  {
   "cell_type": "markdown",
   "id": "caa88585-cf29-4952-94ba-57385389c186",
   "metadata": {},
   "source": [
    "# SHI THOMASI ALGO\n",
    "The Shi-Tomasi corner detection algorithm, also known as the Kanade-Tomasi detector, is an enhancement of the Harris corner detection method. It was introduced by Jianbo Shi and Carlo Tomasi in their 1994 paper \"Good Features to Track.\" This algorithm is primarily used in computer vision for identifying corners in images, which are critical features for various applications such as object recognition and tracking.\r\n",
    "\r\n",
    "## Key Features of the Shi-Tomasi Algorithm\r\n",
    "\r\n",
    "1. **Basis on Harris Detector**:\r\n",
    "   - The Shi-Tomasi algorithm builds on the principles of the Harris corner detector but modifies the scoring mechanism used to identify corners. Instead of using a combined score based on the eigenvalues of the structure tensor, Shi-Tomasi focuses on the minimum eigenvalue.\r\n",
    "\r\n",
    "2. **Corner Scoring Function**:\r\n",
    "   - The corner score is determined by calculating the minimum of the two eigenvalues ($$\\lambda_1$$ and $$\\lambda_2$$) of the structure tensor matrix $$A$$. This is expressed as:\r\n",
    "     $$\r\n",
    "     R = \\min(\\lambda_1, \\lambda_2)\r\n",
    "     $$\r\n",
    "   - This approach enhances stability and reliability in corner detection, particularly in tracking applications.\r\n",
    "\r\n",
    "3. **Robustness**:\r\n",
    "   - The Shi-Tomasi method is more robust than the original Harris detector in certain scenarios, particularly when dealing with noise or when the corners are not well-defined. It provides better performance in detecting features that are stable under various transformations.\r\n",
    "\r\n",
    "4. **Implementation in OpenCV**:\r\n",
    "   - In practical applications, the Shi-Tomasi corner detector is implemented using the OpenCV function `cv2.goodFeaturesToTrack()`, which allows users to specify parameters such as the maximum number of corners to detect, the quality level, and the minimum distance between detected corners.\r\n",
    "\r\n",
    "5. **Applications**:\r\n",
    "   - The algorithm is widely used in real-time applications such as video tracking, motion analysis, and 3D reconstruction due to its efficiency and effectiveness in corner detection.\r\n",
    "\r\n",
    "In summary, the Shi-Tomasi corner detection algorithm is a significant advancement in feature detection techniques, offering improved accuracy and robustness compared to its predecessors, making it a valuable tool in the field of computer vision m/pub/art/2018/229/article_lr.pdf"
   ]
  },
  {
   "cell_type": "code",
   "execution_count": 21,
   "id": "3c85b915-ab08-45f3-9f9e-43f7e51b11f4",
   "metadata": {},
   "outputs": [],
   "source": [
    "import cv2\n",
    "import numpy as np"
   ]
  },
  {
   "cell_type": "code",
   "execution_count": 22,
   "id": "b15f3f03-53cb-44d5-87b5-49878beff50d",
   "metadata": {},
   "outputs": [],
   "source": [
    "img = cv2.imread('imgs/grains.jpg')\n",
    "gray = cv2.cvtColor(img, cv2.COLOR_BGR2GRAY)"
   ]
  },
  {
   "cell_type": "code",
   "execution_count": 24,
   "id": "4ef5309f-3897-48c2-a59a-f9c1a9d880ca",
   "metadata": {},
   "outputs": [
    {
     "name": "stderr",
     "output_type": "stream",
     "text": [
      "C:\\Users\\DELL\\AppData\\Local\\Temp\\ipykernel_568\\304937224.py:2: DeprecationWarning: `np.int0` is a deprecated alias for `np.intp`.  (Deprecated NumPy 1.24)\n",
      "  corners = np.int0(corners)\n"
     ]
    }
   ],
   "source": [
    "corners = cv2.goodFeaturesToTrack(gray, 60, 0.01, 10)\n",
    "corners = np.int0(corners)"
   ]
  },
  {
   "cell_type": "code",
   "execution_count": 25,
   "id": "a993334e-a5a3-4e42-a98a-19a502ed18a6",
   "metadata": {},
   "outputs": [
    {
     "name": "stdout",
     "output_type": "stream",
     "text": [
      "158 149\n",
      "698 278\n",
      "23 391\n",
      "239 84\n",
      "673 57\n",
      "480 107\n",
      "528 39\n",
      "449 35\n",
      "755 67\n",
      "355 303\n",
      "167 163\n",
      "730 517\n",
      "295 483\n",
      "519 191\n",
      "106 284\n",
      "712 138\n",
      "511 30\n",
      "720 522\n",
      "721 599\n",
      "372 299\n",
      "218 78\n",
      "229 383\n",
      "543 559\n",
      "479 447\n",
      "455 99\n",
      "24 199\n",
      "409 254\n",
      "246 277\n",
      "355 529\n",
      "365 505\n",
      "84 536\n",
      "432 125\n",
      "390 129\n",
      "444 102\n",
      "757 400\n",
      "693 433\n",
      "670 84\n",
      "29 190\n",
      "467 369\n",
      "400 21\n",
      "688 111\n",
      "728 116\n",
      "386 28\n",
      "399 35\n",
      "541 37\n",
      "266 354\n",
      "141 347\n",
      "427 580\n",
      "257 88\n",
      "53 130\n",
      "318 304\n",
      "726 9\n",
      "66 152\n",
      "720 164\n",
      "206 189\n",
      "317 16\n",
      "658 67\n",
      "363 541\n",
      "192 286\n",
      "128 576\n"
     ]
    }
   ],
   "source": [
    "# in order to plot the corners in coordinates we shall unwrap to x, y formats \n",
    "for i in corners:\n",
    "    x,y = i.ravel()\n",
    "    print(x,y)\n",
    "    cv2.circle(img, (x,y), 3, 255, -1) \n",
    "    \n",
    "    x,y"
   ]
  },
  {
   "cell_type": "code",
   "execution_count": 29,
   "id": "3b933d26-7fdd-4823-8cce-07f9807e0251",
   "metadata": {},
   "outputs": [],
   "source": [
    "detector = cv2.FastFeatureDetector_create(50)\n",
    "kp = detector.detect(img, None)\n",
    "img2 = cv2.drawKeypoints(img, kp, None, flags=0)"
   ]
  },
  {
   "cell_type": "code",
   "execution_count": null,
   "id": "f003d90e-f3fd-424a-a0d5-8b2e533f5315",
   "metadata": {},
   "outputs": [],
   "source": []
  },
  {
   "cell_type": "code",
   "execution_count": 31,
   "id": "4bef8a1c-03bc-46fa-8dd5-467d3a686ebd",
   "metadata": {},
   "outputs": [],
   "source": [
    "cv2.imshow('corners', img)\n",
    "cv2.imshow('img2', img2)\n",
    "cv2.waitKey(0)\n",
    "cv2.destroyAllWindows()"
   ]
  },
  {
   "cell_type": "markdown",
   "id": "98f6f505-3693-4406-b3c3-653767b94820",
   "metadata": {},
   "source": [
    "# FEATURE DESCRIPTOR\n",
    "The BRIEF (Binary Robust Independent Elementary Features) descriptor is a feature descriptor used in image processing and computer vision, particularly for tasks such as object recognition, image matching, and tracking. It is designed to be fast, efficient, and effective in capturing the essential characteristics of keypoints detected in images.\r\n",
    "\r\n",
    "## Key Features of BRIEF Descriptor\r\n",
    "\r\n",
    "### 1. **Binary String Representation**\r\n",
    "\r\n",
    "BRIEF represents features as binary strings, which significantly reduces the amount of data needed to describe each feature. Each bit in the string corresponds to a simple comparison between the intensities of two pixels in a local image patch surrounding a keypoint. This binary representation allows for quick matching using the Hamming distance, which is computationally efficient.\r\n",
    "\r\n",
    "### 2. **Fast Computation**\r\n",
    "\r\n",
    "The BRIEF descriptor is designed to be extremely fast to compute. It avoids the complexity of traditional descriptors like SIFT or SURF, which require more extensive calculations. By using simple intensity comparisons, BRIEF can quickly generate descriptors even for large sets of keypoints.\r\n",
    "\r\n",
    "### 3. **Robustness**\r\n",
    "\r\n",
    "BRIEF is robust to various photometric and geometric transformations, making it suitable for real-world applications where images may be subject to changes in lighting, scale, or rotation. It is particularly effective when combined with robust keypoint detectors.\r\n",
    "\r\n",
    "## Parameters of BRIEF Descriptor\r\n",
    "\r\n",
    "1. **Patch Size (S)**:\r\n",
    "   - The size of the image patch around the keypoint used to compute the descriptor. Common sizes are 32x32 or 48x48 pixels. The choice of patch size affects the amount of context captured in the descriptor.\r\n",
    "\r\n",
    "2. **Number of Tests (n)**:\r\n",
    "   - The number of pixel intensity comparisons made within the patch. For example, a BRIEF descriptor might use 256 tests, resulting in a 256-bit descriptor. More tests can improve discriminative power but may increase computation time.\r\n",
    "\r\n",
    "3. **Pixel Comparison Pairs**:\r\n",
    "   - The specific pairs of pixel locations within the patch that are compared. These pairs are chosen randomly and fixed at compile time, allowing for efficient computation during descriptor generation.\r\n",
    "\r\n",
    "4. **Thresholding**:\r\n",
    "   - While not a direct parameter of BRIEF, the choice of threshold for pixel intensity comparisons can influence the sensitivity of the descriptor to variations in lighting.\r\n",
    "\r\n",
    "## Applications of BRIEF Descriptor\r\n",
    "\r\n",
    "1. **Object Recognition**:\r\n",
    "   - BRIEF is widely used in object recognition tasks, where it helps identify and match objects across different images. Its speed makes it suitable for real-time applications.\r\n",
    "\r\n",
    "2. **Image Matching**:\r\n",
    "   - In scenarios where multiple images need to be matched, such as in panoramic stitching or 3D reconstruction, BRIEF provides a fast and efficient way to find correspondences between keypoints.\r\n",
    "\r\n",
    "3. **Tracking**:\r\n",
    "   - BRIEF can be used in tracking applications, such as video tracking, where features need to be consistently identified across frames.\r\n",
    "\r\n",
    "4. **Augmented Reality**:\r\n",
    "   - In augmented reality applications, BRIEF can quickly detect and match features in real-time, allowing for the overlay of virtual objects onto real-world scenes.\r\n",
    "\r\n",
    "5. **Mobile Applications**:\r\n",
    "   - Due to its computational efficiency, BRIEF is suitable for use in mobile devices and applications with limited processing power.\r\n",
    "\r\n",
    "In summary, the BRIEF descriptor is a powerful tool in image processing, offering a balance of speed, efficiency, and robustness for various applications, particularly in real-time scenarios. Its binary representation and simple computation make it a popular choice for feature mat\n",
    "\n",
    "Oriented FAST and Rotated BRIEF (ORB) is a robust and efficient feature detection and description algorithm in computer vision, introduced by Ethan Rublee et al. in 2011. ORB combines the advantages of the FAST keypoint detector and the BRIEF descriptor while addressing their limitations, particularly in terms of orientation and scale invariance. Here’s a detailed explanation of ORB, its components, parameters, and applications.\r\n",
    "\r\n",
    "## Key Components of ORB\r\n",
    "\r\n",
    "### 1. **FAST Keypoint Detection**\r\n",
    "\r\n",
    "- **FAST (Features from Accelerated Segment Test)** is used to detect keypoints in the image. It operates by examining the intensity of a candidate pixel against its surrounding pixels in a circular pattern. If a sufficient number of contiguous pixels are either significantly brighter or darker than the candidate pixel, it is marked as a keypoint.\r\n",
    "  \r\n",
    "- **Non-Maximum Suppression**: After identifying potential keypoints, ORB applies non-maximum suppression to retain only the most distinctive keypoints, ensuring that the features selected are the most relevant.\r\n",
    "\r\n",
    "### 2. **Orientation Assignment**\r\n",
    "\r\n",
    "- One of the improvements in ORB over traditional FAST is the assignment of orientation to keypoints. ORB computes the orientation of each keypoint based on the intensity of the pixels around it. This orientation is crucial for achieving rotation invariance, allowing the descriptor to be robust against rotations of the image.\r\n",
    "\r\n",
    "### 3. **Rotated BRIEF Descriptor**\r\n",
    "\r\n",
    "- ORB employs a modified version of the BRIEF descriptor, which is designed to be invariant to rotation. Instead of using a fixed orientation, the BRIEF descriptor is rotated according to the orientation assigned to each keypoint. This modification allows ORB to maintain performance even when the image is rotated.\r\n",
    "\r\n",
    "- **Binary Descriptor**: The BRIEF descriptor generates a binary string representation of the keypoint, which is efficient for matching. Each bit in the descriptor is the result of comparing the intensities of two pixels in a specified pattern.\r\n",
    "\r\n",
    "## Parameters of ORB\r\n",
    "\r\n",
    "1. **Number of Keypoints (nFeatures)**:\r\n",
    "   - This parameter specifies the maximum number of keypoints to retain after detection. It allows control over the number of features used for matching.\r\n",
    "\r\n",
    "2. **Scale Factor (scaleFactor)**:\r\n",
    "   - This parameter determines the scale at which the keypoints are detected. ORB can build an image pyramid to detect features at multiple scales, enhancing its robustness to scale changes.\r\n",
    "\r\n",
    "3. **Patch Size (patchSize)**:\r\n",
    "   - The size of the image patch used to compute the BRIEF descriptor. Typical values are 31x31 pixels, which provide a good balance between context and computational efficiency.\r\n",
    "\r\n",
    "4. **Number of Binary Tests (nBinaryTests)**:\r\n",
    "   - This defines the number of intensity comparisons made to generate the binary descriptor. A common choice is 256 tests, resulting in a 256-bit descriptor.\r\n",
    "\r\n",
    "5. **Threshold for FAST (fastThreshold)**:\r\n",
    "   - This threshold determines the sensitivity of the FAST detector. A higher threshold may result in fewer detected keypoints, while a lower threshold may increase the number of detected keypoints, including potential noise.\r\n",
    "\r\n",
    "## Applications of ORB\r\n",
    "\r\n",
    "1. **Object Recognition**:\r\n",
    "   - ORB is widely used in object recognition tasks due to its efficiency and robustness. It can effectively identify and match objects across different images.\r\n",
    "\r\n",
    "2. **Image Matching**:\r\n",
    "   - In applications such as panoramic stitching, ORB helps find correspondences between keypoints in overlapping images, facilitating the creation of seamless panoramas.\r\n",
    "\r\n",
    "3. **3D Reconstruction**:\r\n",
    "   - ORB can be used in 3D reconstruction processes by matching keypoints across multiple views of the same scene.\r\n",
    "\r\n",
    "4. **Visual SLAM (Simultaneous Localization and Mapping)**:\r\n",
    "   - ORB is commonly employed in SLAM systems, where it helps in tracking the position of a moving agent while simultaneously mapping the environment.\r\n",
    "\r\n",
    "5. **Augmented Reality**:\r\n",
    "   - In augmented reality applications, ORB enables the detection and tracking of features in real-time, allowing virtual objects to be accurately overlaid onto the real world.\r\n",
    "\r\n",
    "6. **Robotics**:\r\n",
    "   - ORB is utilized in robotic vision systems for navigation and obstacle detection, providing essential information about the environment.\r\n",
    "\r\n",
    "In summary, ORB is a powerful feature detection and description algorithm that combines the strengths of FAST and BRIEF while addressing their limitations. Its speed, efficiency, and robustness make it suitable for a wide range riptor\r\n",
    "[8] https://dl.acm.org/doi/fullHtml/10.1145/3542954.3543008] https://dl.acm.org/doi/fullHtml/10.1145/3542954.3543008"
   ]
  },
  {
   "cell_type": "code",
   "execution_count": 1,
   "id": "f21258f7-9275-43c3-9df3-c544320103d8",
   "metadata": {},
   "outputs": [],
   "source": [
    "# ORIENTED FAST AND ROTATED BRIEF\n",
    "import cv2\n",
    "import numpy as np\n",
    "from matplotlib import pyplot as plt"
   ]
  },
  {
   "cell_type": "code",
   "execution_count": 2,
   "id": "0a7563d3-2a61-400c-8a71-8091123fe315",
   "metadata": {},
   "outputs": [],
   "source": [
    "img = cv2.imread('imgs/grains.jpg', 0)\n",
    "orb = cv2.ORB_create(50)\n",
    "kp, des = orb.detectAndCompute(img, None)"
   ]
  },
  {
   "cell_type": "code",
   "execution_count": 3,
   "id": "cee5ee2f-e51b-41e7-90dd-768d43afc317",
   "metadata": {},
   "outputs": [],
   "source": [
    "img2 = cv2.drawKeypoints(img, kp, None, flags=cv2.DRAW_MATCHES_FLAGS_DRAW_RICH_KEYPOINTS)"
   ]
  },
  {
   "cell_type": "code",
   "execution_count": 4,
   "id": "5fd1704c-e622-4013-b7c1-57c1625b4422",
   "metadata": {},
   "outputs": [],
   "source": [
    "cv2.imshow('img2', img2)\n",
    "cv2.waitKey(0)\n",
    "cv2.destroyAllWindows()"
   ]
  },
  {
   "cell_type": "code",
   "execution_count": 5,
   "id": "56e875d9-2f3a-45b1-8e6b-96c78379b859",
   "metadata": {},
   "outputs": [],
   "source": [
    "import cv2\n",
    "import numpy as np\n",
    "from matplotlib import pyplot as plt"
   ]
  },
  {
   "cell_type": "markdown",
   "id": "b2edf04a-6047-4ade-b175-9dedb83d9b80",
   "metadata": {},
   "source": [
    "# IMAGE REGISTRATION USING HOMOGRAPHY"
   ]
  },
  {
   "cell_type": "code",
   "execution_count": 17,
   "id": "baeb691e-c397-48b3-b0a7-0c5fe3cf7b0e",
   "metadata": {},
   "outputs": [],
   "source": [
    "img = cv2.imread('imgs/monkey.jpg', 0)\n",
    "img1 = cv2.cvtColor(img, cv2.COLOR_BAYER_BG2BGR)\n",
    "orb = cv2.ORB_create(50)\n",
    "kp, des = orb.detectAndCompute(img1, None)"
   ]
  },
  {
   "cell_type": "code",
   "execution_count": 7,
   "id": "3474fa16-c0e5-4a24-ba9e-1e87b5a559ea",
   "metadata": {},
   "outputs": [],
   "source": [
    "img2 = cv2.drawKeypoints(img1, kp, None, flags=None)"
   ]
  },
  {
   "cell_type": "code",
   "execution_count": 8,
   "id": "ac73f440-7033-4456-8d73-443c385910a8",
   "metadata": {},
   "outputs": [],
   "source": [
    "cv2.imshow('img2', img2)\n",
    "cv2.waitKey(0)\n",
    "cv2.destroyAllWindows()"
   ]
  },
  {
   "cell_type": "code",
   "execution_count": 19,
   "id": "bb0c30ad-22b6-45e2-897d-af0051a576dc",
   "metadata": {},
   "outputs": [],
   "source": [
    "img1 = cv2.imread('imgs/monkey_distorted.jpg')"
   ]
  },
  {
   "cell_type": "code",
   "execution_count": 20,
   "id": "3f32773c-3251-4f45-b6de-465fd9b96ba7",
   "metadata": {},
   "outputs": [],
   "source": [
    "img2 = cv2.imread('imgs/monkey.jpg')"
   ]
  },
  {
   "cell_type": "code",
   "execution_count": 21,
   "id": "27bcde64-30d7-4f0b-8c69-d6fd3a6070d7",
   "metadata": {},
   "outputs": [],
   "source": [
    "img1 = cv2.cvtColor(img1, cv2.COLOR_BGR2GRAY)\n",
    "img2 = cv2.cvtColor(img2, cv2.COLOR_BGR2GRAY)"
   ]
  },
  {
   "cell_type": "code",
   "execution_count": 22,
   "id": "90e5e018-9026-46eb-bdea-fe51d84f8809",
   "metadata": {},
   "outputs": [],
   "source": [
    "orb = cv2.ORB_create(50)"
   ]
  },
  {
   "cell_type": "code",
   "execution_count": 24,
   "id": "92ae4bc4-27de-49cc-be13-9888199d7f17",
   "metadata": {},
   "outputs": [],
   "source": [
    "kp1, des1 = orb.detectAndCompute(img1, None)\n",
    "kp2, des2 = orb.detectAndCompute(img2, None)"
   ]
  },
  {
   "cell_type": "code",
   "execution_count": 30,
   "id": "a45eacc9-f0f6-453f-80da-f208a26f2fd7",
   "metadata": {},
   "outputs": [],
   "source": [
    "img3 = cv2.drawKeypoints(img1, kp1, None, flags=None)\n",
    "img4 = cv2.drawKeypoints(img2, kp2, None, flags=None)"
   ]
  },
  {
   "cell_type": "code",
   "execution_count": 27,
   "id": "078b0601-b796-4f40-8d47-495f3e68c5fc",
   "metadata": {},
   "outputs": [],
   "source": [
    "match = cv2.DescriptorMatcher_create(cv2.DescriptorMatcher_BRUTEFORCE_HAMMING)"
   ]
  },
  {
   "cell_type": "code",
   "execution_count": 28,
   "id": "8db3c795-cd3e-40cd-8dee-9f0e4197694f",
   "metadata": {},
   "outputs": [],
   "source": [
    "matches = match.match(des1, des2, None)"
   ]
  },
  {
   "cell_type": "code",
   "execution_count": 29,
   "id": "8259b734-dd9e-460c-8513-f6ee2651eaef",
   "metadata": {},
   "outputs": [],
   "source": [
    "matches = sorted(matches, key = lambda x:x.distance)"
   ]
  },
  {
   "cell_type": "code",
   "execution_count": 34,
   "id": "c899387b-f396-432b-bc1d-e24f735aa04f",
   "metadata": {},
   "outputs": [],
   "source": [
    "imgn = cv2.drawMatches(img1, kp1, img2, kp2, matches[:10], None)\n"
   ]
  },
  {
   "cell_type": "code",
   "execution_count": 37,
   "id": "5afa7ea9-6187-4381-9fbf-ffc4692c33e5",
   "metadata": {},
   "outputs": [],
   "source": [
    "# RANSAC\n",
    "point1 = np.zeros((len(matches), 2), dtype = np.float32)\n",
    "point2 = np.zeros((len(matches), 2), dtype = np.float32)"
   ]
  },
  {
   "cell_type": "code",
   "execution_count": 38,
   "id": "f9e09522-9fd6-439c-a8b8-f65eb78c61e3",
   "metadata": {},
   "outputs": [],
   "source": [
    "for i,match in enumerate(matches):\n",
    "    point1[i, :] = kp1[match.queryIdx].pt\n",
    "    point2[i, :] = kp2[match.queryIdx].pt"
   ]
  },
  {
   "cell_type": "code",
   "execution_count": 40,
   "id": "8c69bb36-773a-43e6-b5ae-be41b0f17e69",
   "metadata": {},
   "outputs": [
    {
     "name": "stdout",
     "output_type": "stream",
     "text": [
      "[[ 95.04      73.44    ]\n",
      " [ 82.11458  223.94885 ]\n",
      " [138.       264.      ]\n",
      " [140.       265.      ]\n",
      " [123.600006  78.      ]\n",
      " [103.200005 278.40002 ]\n",
      " [119.43939   84.6029  ]\n",
      " [103.68001  277.92    ]\n",
      " [ 74.       286.      ]\n",
      " [ 90.        70.8     ]\n",
      " [120.268814  70.50241 ]\n",
      " [123.840004  77.76    ]\n",
      " [121.200005  76.8     ]\n",
      " [ 95.04001   72.576004]\n",
      " [138.       264.      ]\n",
      " [ 89.28001   77.76    ]\n",
      " [122.42538  101.52348 ]\n",
      " [ 81.       101.      ]\n",
      " [122.        76.      ]\n",
      " [124.416016  74.64961 ]\n",
      " [124.416016  76.032005]\n",
      " [ 44.       291.      ]\n",
      " [ 89.28001   70.560005]\n",
      " [ 98.5375   217.9769  ]\n",
      " [120.96001   70.560005]\n",
      " [ 73.200005 283.2     ]\n",
      " [ 89.85601   70.84801 ]\n",
      " [ 89.16481   76.72321 ]\n",
      " [147.22562  257.12643 ]\n",
      " [130.8       58.800003]\n",
      " [ 77.13794  114.462746]\n",
      " [122.42538  173.18712 ]\n",
      " [138.24     263.52002 ]\n",
      " [120.960014  70.84801 ]\n",
      " [113.46742  203.04697 ]\n",
      " [145.20001  259.2     ]\n",
      " [ 91.23841   70.50241 ]\n",
      " [ 89.579544  77.13794 ]\n",
      " [ 88.128006  77.76001 ]\n",
      " [131.        59.      ]\n",
      " [145.       258.      ]\n",
      " [ 73.44     283.68002 ]\n",
      " [ 53.568005 148.60802 ]\n",
      " [146.       260.      ]\n",
      " [143.       256.      ]\n",
      " [ 70.       292.      ]\n",
      " [ 76.8      289.2     ]]\n"
     ]
    }
   ],
   "source": [
    "print(point1)"
   ]
  },
  {
   "cell_type": "code",
   "execution_count": 47,
   "id": "be6f90a6-33b8-4814-9464-e2ffe37fa0ec",
   "metadata": {},
   "outputs": [],
   "source": [
    "# homography\n",
    "h, mask = cv2.findHomography(point1, point2, cv2.RANSAC)\n",
    "height, width = img2.shape\n",
    "img1Register = cv2.warpPerspective(img1, h, (width, height))"
   ]
  },
  {
   "cell_type": "code",
   "execution_count": null,
   "id": "db9df715-548a-407e-83d5-d84da2d00a99",
   "metadata": {},
   "outputs": [],
   "source": []
  },
  {
   "cell_type": "code",
   "execution_count": 48,
   "id": "ae1be74f-cca5-42b6-b7a1-8d26e5f862ef",
   "metadata": {},
   "outputs": [],
   "source": [
    "cv2.imshow('img3', img3)\n",
    "cv2.imshow('img4', img4)\n",
    "cv2.imshow('imgn', imgn)\n",
    "cv2.imshow('img1Register', img1Register)\n",
    "cv2.waitKey(0)\n",
    "cv2.destroyAllWindows()"
   ]
  },
  {
   "cell_type": "markdown",
   "id": "56152573-af06-4e78-86ef-b15c5364e5a7",
   "metadata": {},
   "source": [
    "# IMAGE REGISTARTION AND IT'S PARAMETER\n",
    "Image registration is a critical image processing technique used to align multiple images into a single integrated representation. This process is essential in various fields, including medical imaging, satellite imagery, and computer vision, where images taken from different angles, times, or conditions need to be accurately aligned for analysis or visualization.\r\n",
    "\r\n",
    "## Overview of Image Registration\r\n",
    "\r\n",
    "### Definition\r\n",
    "\r\n",
    "Image registration involves transforming and aligning images so that corresponding points in the images match. This is necessary when images may differ due to factors like rotation, scaling, translation, or perspective changes. The goal is to establish a spatial correspondence between the images, allowing for accurate analysis and interpretation.\r\n",
    "\r\n",
    "### Types of Image Registration\r\n",
    "\r\n",
    "1. **Image-to-Image Registration**: Aligns multiple images of the same scene taken from different viewpoints or at different times.\r\n",
    "  \r\n",
    "2. **Image-to-Map Registration**: Adjusts an image to fit a map or a reference image, maintaining the original spatial resolution.\r\n",
    "\r\n",
    "### Steps in Image Registration\r\n",
    "\r\n",
    "The process typically involves several key steps:\r\n",
    "\r\n",
    "1. **Feature Detection**: Identifying distinctive features (e.g., edges, corners) in both the reference and target images.\r\n",
    "\r\n",
    "2. **Feature Matching**: Establishing correspondences between detected features in the two images.\r\n",
    "\r\n",
    "3. **Transformation Model Determination**: Calculating the necessary transformations (e.g., translation, rotation) to align the images.\r\n",
    "\r\n",
    "4. **Image Resampling and Transformation**: Applying the calculated transformations to the target image to achieve alignment with the reference image.\r\n",
    "\r\n",
    "### Applications\r\n",
    "\r\n",
    "Image registration is widely used in:\r\n",
    "\r\n",
    "- **Medical Imaging**: Aligning images from different modalities (e.g., MRI, CT scans) for better diagnosis and treatment planning.\r\n",
    "  \r\n",
    "- **Satellite Imagery**: Combining images taken at different times to monitor changes in the environment.\r\n",
    "\r\n",
    "- **Computer Vision**: Enhancing object recognition and tracking by aligning images from different perspectives.\r\n",
    "\r\n",
    "## Parameter: `warpPerspective`\r\n",
    "\r\n",
    "The `warpPerspective` parameter is associated with perspective transformation in image registration. This transformation allows for the adjustment of images to account for perspective distortions, which can occur when the camera angle changes between captures.\r\n",
    "\r\n",
    "### Uses of `warpPerspective`\r\n",
    "\r\n",
    "1. **Correcting Perspective Distortion**: Adjusts images taken from different angles to a consistent viewpoint, making them easier to compare or analyze.\r\n",
    "\r\n",
    "2. **Creating Panoramic Images**: Combines multiple images into a single wide-angle view by aligning them based on their perspective.\r\n",
    "\r\n",
    "3. **Augmented Reality**: Aligns virtual objects with real-world images by correcting for perspective differences, enhancing the realism of the overlay.\r\n",
    "\r\n",
    "4. **3D Reconstruction**: Facilitates the alignment of images from various angles to reconstruct three-dimensional models of objects or scenes.\r\n",
    "\r\n",
    "In summary, image registration is a fundamental technique in various imaging applications, enabling the alignment of images for improved analysis and interpretation. The `warpPerspective` parameter plays a crucial role in correcting perspective distog/step-by-step-guide-to-using-ransac-in-opencv-using-python/"
   ]
  },
  {
   "cell_type": "code",
   "execution_count": 51,
   "id": "9074346c-659b-4350-b203-65e3574c0ec4",
   "metadata": {},
   "outputs": [
    {
     "name": "stdout",
     "output_type": "stream",
     "text": [
      "Estimated homography : \n",
      " [[ 1.54719399e+00  1.28817124e-01 -6.05116033e+01]\n",
      " [-4.19863771e-02  1.00806945e+00  8.86721436e+00]\n",
      " [ 8.09394234e-05  9.83666458e-05  1.00000000e+00]]\n"
     ]
    },
    {
     "data": {
      "text/plain": [
       "-1"
      ]
     },
     "execution_count": 51,
     "metadata": {},
     "output_type": "execute_result"
    }
   ],
   "source": [
    "#!/usr/bin/env python\n",
    "__author__ = \"Sreenivas Bhattiprolu\"\n",
    "__license__ = \"Feel free to copy, I appreciate if you acknowledge Python for Microscopists\"\n",
    "\n",
    "# https://www.youtube.com/watch?v=cA8K8dl-E6k\n",
    "\n",
    "\n",
    "# Brute-Force Matching with ORB Descriptors\n",
    "\n",
    "import numpy as np\n",
    "import cv2\n",
    "from matplotlib import pyplot as plt\n",
    "\n",
    "im1 = cv2.imread('imgs/monkey_distorted.jpg')          # Image that needs to be registered.\n",
    "im2 = cv2.imread('imgs/monkey.jpg') # trainImage\n",
    "\n",
    "img1 = cv2.cvtColor(im1, cv2.COLOR_BGR2GRAY)\n",
    "img2 = cv2.cvtColor(im2, cv2.COLOR_BGR2GRAY)\n",
    "\n",
    "# Initiate ORB detector\n",
    "orb = cv2.ORB_create(50)  #Registration works with at least 50 points\n",
    "\n",
    "# find the keypoints and descriptors with orb\n",
    "kp1, des1 = orb.detectAndCompute(img1, None)  #kp1 --> list of keypoints\n",
    "kp2, des2 = orb.detectAndCompute(img2, None)\n",
    "\n",
    "#Brute-Force matcher takes the descriptor of one feature in first set and is \n",
    "#matched with all other features in second set using some distance calculation.\n",
    "# create Matcher object\n",
    "\n",
    "matcher = cv2.DescriptorMatcher_create(cv2.DESCRIPTOR_MATCHER_BRUTEFORCE_HAMMING)\n",
    "\n",
    "# Match descriptors.\n",
    "matches = matcher.match(des1, des2, None)  #Creates a list of all matches, just like keypoints\n",
    "\n",
    "# Sort them in the order of their distance.\n",
    "matches = sorted(matches, key = lambda x:x.distance)\n",
    "\n",
    "#Like we used cv2.drawKeypoints() to draw keypoints, \n",
    "#cv2.drawMatches() helps us to draw the matches. \n",
    "#https://docs.opencv.org/3.0-beta/modules/features2d/doc/drawing_function_of_keypoints_and_matches.html\n",
    "# Draw first 10 matches.\n",
    "img3 = cv2.drawMatches(im1,kp1, im2, kp2, matches[:10], None)\n",
    "\n",
    "cv2.imshow(\"Matches image\", img3)\n",
    "cv2.waitKey(0)\n",
    "\n",
    "#Now let us use these key points to register two images. \n",
    "#Can be used for distortion correction or alignment\n",
    "#For this task we will use homography. \n",
    "# https://docs.opencv.org/3.4.1/d9/dab/tutorial_homography.html\n",
    "\n",
    "# Extract location of good matches.\n",
    "# For this we will use RANSAC.\n",
    "#RANSAC is abbreviation of RANdom SAmple Consensus, \n",
    "#in summary it can be considered as outlier rejection method for keypoints.\n",
    "#http://eric-yuan.me/ransac/\n",
    "#RANSAC needs all key points indexed, first set indexed to queryIdx\n",
    "#Second set to #trainIdx. \n",
    "\n",
    "points1 = np.zeros((len(matches), 2), dtype=np.float32)  #Prints empty array of size equal to (matches, 2)\n",
    "points2 = np.zeros((len(matches), 2), dtype=np.float32)\n",
    "\n",
    "for i, match in enumerate(matches):\n",
    "   points1[i, :] = kp1[match.queryIdx].pt    #gives index of the descriptor in the list of query descriptors\n",
    "   points2[i, :] = kp2[match.trainIdx].pt    #gives index of the descriptor in the list of train descriptors\n",
    "\n",
    "#Now we have all good keypoints so we are ready for homography.   \n",
    "# Find homography\n",
    "#https://en.wikipedia.org/wiki/Homography_(computer_vision)\n",
    "  \n",
    "h, mask = cv2.findHomography(points1, points2, cv2.RANSAC)\n",
    " \n",
    "  # Use homography\n",
    "height, width, channels = im2.shape\n",
    "im1Reg = cv2.warpPerspective(im1, h, (width, height))  #Applies a perspective transformation to an image.\n",
    "   \n",
    "print(\"Estimated homography : \\n\",  h)\n",
    "\n",
    "cv2.imshow(\"Registered image\", im1Reg)\n",
    "cv2.waitKey()"
   ]
  },
  {
   "cell_type": "markdown",
   "id": "aa9dff6b-5feb-4e82-86dd-5184a1ff7f79",
   "metadata": {},
   "source": [
    "# RANSAC AND IT'S BOOM\n",
    "RANSAC, which stands for RANdom SAmple Consensus, is an iterative algorithm used for estimating parameters of a mathematical model from a dataset that contains outliers. It was introduced by Martin Fischler and Robert Bolles in 1981 and is particularly useful in computer vision and image processing applications where data may be corrupted by noise or outliers.\r\n",
    "\r\n",
    "## How RANSAC Works\r\n",
    "\r\n",
    "The RANSAC algorithm follows a systematic approach:\r\n",
    "\r\n",
    "1. **Random Sampling**: Randomly select a minimal subset of data points required to fit the model. For example, to fit a line, you would need at least two points.\r\n",
    "\r\n",
    "2. **Model Fitting**: Fit a model to this subset of points. The model could be a line, a plane, or any other mathematical representation depending on the application.\r\n",
    "\r\n",
    "3. **Consensus Set**: Determine how many points from the entire dataset fit the model within a predefined tolerance (threshold). Points that fit well are considered inliers, while those that do not are considered outliers.\r\n",
    "\r\n",
    "4. **Iteration**: Repeat the above steps for a specified number of iterations or until a satisfactory model is found. The algorithm keeps track of the model with the highest number of inliers.\r\n",
    "\r\n",
    "5. **Final Model Estimation**: Once the best model is identified, it can be re-estimated using all the inliers to improve accuracy.\r\n",
    "\r\n",
    "The key advantage of RANSAC is its robustness to outliers. By focusing on a minimal subset of data points and iteratively refining the model, RANSAC can effectively ignore outliers and find a model that accurately represents the underlying data.\r\n",
    "\r\n",
    "## Applications in Image Processing\r\n",
    "\r\n",
    "RANSAC is widely used in various image processing tasks, including:\r\n",
    "\r\n",
    "1. **Feature Matching**: In scenarios where features are extracted from images (e.g., using SIFT or ORB), RANSAC helps in identifying the correct matches between features across different images by filtering out incorrect matches (outliers).\r\n",
    "\r\n",
    "2. **Geometric Model Fitting**: RANSAC is commonly used to estimate geometric transformations such as homographies, fundamental matrices, or affine transformations. This is crucial in applications like image stitching, where multiple images are combined to create a panorama.\r\n",
    "\r\n",
    "3. **Object Detection**: In object recognition tasks, RANSAC can help fit bounding boxes or shapes to detected features, ensuring that the model remains robust even when some of the detected features are incorrect.\r\n",
    "\r\n",
    "4. **3D Reconstruction**: RANSAC is used in stereo vision and structure-from-motion applications to estimate the 3D structure of a scene by matching 2D image points across multiple views and filtering out erroneous matches.\r\n",
    "\r\n",
    "5. **Motion Estimation**: In video processing, RANSAC can be employed to estimate motion parameters between frames, helping in tasks like video stabilization and object tracking.\r\n",
    "\r\n",
    "## Conclusion\r\n",
    "\r\n",
    "RANSAC is a powerful algorithm for robust parameter estimation in the presence of outliers. Its iterative approach allows it to effectively identify and disregard outliers, making it invaluable in various image processing applications where data integrity is compromised. By focusing on the consensus of inliers, RANSAC enables accurate model fitting, which is essential fxiv.org/ftp/arxiv/papers/1710/1710.02726.pdf"
   ]
  },
  {
   "cell_type": "markdown",
   "id": "958c28e3-2ed0-45de-bedc-28afc44f26d7",
   "metadata": {},
   "source": [
    "# GRAIN SIZE ANALYSIS"
   ]
  },
  {
   "cell_type": "code",
   "execution_count": 1,
   "id": "1872ca07-4489-437d-8826-b131b8e7c2d8",
   "metadata": {},
   "outputs": [],
   "source": [
    "import cv2\n",
    "import numpy as np\n",
    "from matplotlib import pyplot as plt\n",
    "from scipy import ndimage\n",
    "from skimage import io, color, measure"
   ]
  },
  {
   "cell_type": "code",
   "execution_count": 2,
   "id": "cd57bef6-960f-47ce-8694-4697b27a4a9a",
   "metadata": {},
   "outputs": [],
   "source": [
    "# step 1\n",
    "img = cv2.imread('imgs/grains2.jpg', 0)\n",
    "pixels_to_um = 0.5 # 500nm"
   ]
  },
  {
   "cell_type": "code",
   "execution_count": 3,
   "id": "a961befb-b1ec-4fae-b890-91a5b07533e4",
   "metadata": {},
   "outputs": [
    {
     "data": {
      "text/plain": [
       "(array([4.6000e+01, 1.6000e+01, 9.0000e+00, 1.2000e+01, 5.0000e+00,\n",
       "        4.0000e+00, 5.0000e+00, 1.9000e+01, 8.0000e+00, 3.6000e+01,\n",
       "        3.4000e+01, 2.3000e+01, 3.7000e+01, 4.5000e+01, 7.3000e+01,\n",
       "        4.8000e+01, 7.5000e+01, 5.1000e+01, 1.3200e+02, 8.9000e+01,\n",
       "        1.6300e+02, 1.7200e+02, 1.3700e+02, 2.3100e+02, 1.7700e+02,\n",
       "        2.8700e+02, 2.4200e+02, 3.8700e+02, 2.5700e+02, 4.1000e+02,\n",
       "        4.9200e+02, 3.8600e+02, 5.7300e+02, 4.1400e+02, 6.5600e+02,\n",
       "        4.9800e+02, 7.4200e+02, 5.0600e+02, 8.2100e+02, 4.9800e+02,\n",
       "        8.3600e+02, 8.2600e+02, 5.8300e+02, 8.2400e+02, 5.5200e+02,\n",
       "        8.6000e+02, 5.6100e+02, 7.7500e+02, 5.9800e+02, 8.5200e+02,\n",
       "        8.9400e+02, 5.3500e+02, 8.4600e+02, 5.7900e+02, 9.0500e+02,\n",
       "        5.6900e+02, 8.6100e+02, 5.7700e+02, 7.9600e+02, 5.4300e+02,\n",
       "        8.9300e+02, 9.0300e+02, 6.0900e+02, 9.3100e+02, 6.4300e+02,\n",
       "        9.1700e+02, 6.4100e+02, 1.0040e+03, 6.7700e+02, 1.1210e+03,\n",
       "        1.1980e+03, 8.4100e+02, 1.4160e+03, 1.0350e+03, 1.9900e+03,\n",
       "        1.6940e+03, 3.7800e+03, 3.8580e+03, 9.5110e+03, 1.0105e+04,\n",
       "        1.9335e+04, 2.0630e+04, 1.2109e+04, 1.2861e+04, 5.7060e+03,\n",
       "        4.5620e+03, 1.4120e+03, 1.0180e+03, 3.0000e+02, 1.8500e+02,\n",
       "        4.3000e+01, 1.8000e+01, 3.0000e+00, 1.0000e+00, 2.0000e+00,\n",
       "        0.0000e+00, 0.0000e+00, 0.0000e+00, 0.0000e+00, 0.0000e+00]),\n",
       " array([  0.  ,   2.55,   5.1 ,   7.65,  10.2 ,  12.75,  15.3 ,  17.85,\n",
       "         20.4 ,  22.95,  25.5 ,  28.05,  30.6 ,  33.15,  35.7 ,  38.25,\n",
       "         40.8 ,  43.35,  45.9 ,  48.45,  51.  ,  53.55,  56.1 ,  58.65,\n",
       "         61.2 ,  63.75,  66.3 ,  68.85,  71.4 ,  73.95,  76.5 ,  79.05,\n",
       "         81.6 ,  84.15,  86.7 ,  89.25,  91.8 ,  94.35,  96.9 ,  99.45,\n",
       "        102.  , 104.55, 107.1 , 109.65, 112.2 , 114.75, 117.3 , 119.85,\n",
       "        122.4 , 124.95, 127.5 , 130.05, 132.6 , 135.15, 137.7 , 140.25,\n",
       "        142.8 , 145.35, 147.9 , 150.45, 153.  , 155.55, 158.1 , 160.65,\n",
       "        163.2 , 165.75, 168.3 , 170.85, 173.4 , 175.95, 178.5 , 181.05,\n",
       "        183.6 , 186.15, 188.7 , 191.25, 193.8 , 196.35, 198.9 , 201.45,\n",
       "        204.  , 206.55, 209.1 , 211.65, 214.2 , 216.75, 219.3 , 221.85,\n",
       "        224.4 , 226.95, 229.5 , 232.05, 234.6 , 237.15, 239.7 , 242.25,\n",
       "        244.8 , 247.35, 249.9 , 252.45, 255.  ]),\n",
       " <BarContainer object of 100 artists>)"
      ]
     },
     "execution_count": 3,
     "metadata": {},
     "output_type": "execute_result"
    },
    {
     "data": {
      "image/png": "[encoded data removed]",
      "text/plain": [
       "<Figure size 640x480 with 1 Axes>"
      ]
     },
     "metadata": {},
     "output_type": "display_data"
    }
   ],
   "source": [
    "# step 2 thresholding \n",
    "plt.hist(img.flat, bins=100, range=(0,255))"
   ]
  },
  {
   "cell_type": "code",
   "execution_count": 4,
   "id": "fd970b7a-8c95-4240-a664-06c41af9d380",
   "metadata": {},
   "outputs": [],
   "source": [
    "ret, thresh = cv2.threshold(img, 0, 255, cv2.THRESH_BINARY+cv2.THRESH_OTSU)"
   ]
  },
  {
   "cell_type": "code",
   "execution_count": 5,
   "id": "0b52a4a3-3c74-441b-a793-3db4f8982df0",
   "metadata": {},
   "outputs": [
    {
     "name": "stdout",
     "output_type": "stream",
     "text": [
      "157.0\n"
     ]
    }
   ],
   "source": [
    "print(ret)"
   ]
  },
  {
   "cell_type": "code",
   "execution_count": 8,
   "id": "a668c033-4fc0-41ff-9cdb-ff1ba4defbbd",
   "metadata": {},
   "outputs": [],
   "source": [
    "# step 3 clean\n",
    "kernel = np.ones((3,3), np.uint8)\n",
    "eroded = cv2.erode(thresh, kernel, iterations = 1)\n",
    "dialate = cv2.dilate(eroded, kernel, iterations=1)"
   ]
  },
  {
   "cell_type": "code",
   "execution_count": 20,
   "id": "7c6517ae-29a6-4319-9bdd-218df5e306fc",
   "metadata": {},
   "outputs": [
    {
     "data": {
      "text/plain": [
       "<matplotlib.image.AxesImage at 0x2b8aca388c0>"
      ]
     },
     "execution_count": 20,
     "metadata": {},
     "output_type": "execute_result"
    },
    {
     "data": {
      "image/png": "[encoded data removed]",
      "text/plain": [
       "<Figure size 640x480 with 1 Axes>"
      ]
     },
     "metadata": {},
     "output_type": "display_data"
    }
   ],
   "source": [
    "mask = dialate == 255\n",
    "io.imshow(mask[250:280, 250:280])"
   ]
  },
  {
   "cell_type": "markdown",
   "id": "8acb1843-5b4f-4b34-931b-c189fe10ac3f",
   "metadata": {},
   "source": [
    "# STRUCTURE IN NDIMGE \n",
    "In image processing, the `structure` parameter in functions like `ndimage.label` specifies the connectivity of pixels when identifying connected components in a binary image. It defines which neighboring pixels are considered connected to each other. Here's a more detailed explanation:\r\n",
    "\r\n",
    "## Connectivity and the `structure` Parameter\r\n",
    "\r\n",
    "- The `structure` parameter is a binary array that defines the shape and size of the structuring element used to determine pixel connectivity.\r\n",
    "- It specifies which pixels in the neighborhood of a given pixel should be considered part of the same connected component.\r\n",
    "- Common choices for `structure` include:\r\n",
    "  - `None` (default): Only direct neighbors are considered connected (4-connectivity in 2D, 6-connectivity in 3D).\r\n",
    "  - A 2D array for 2D images, e.g., `[[0, 1, 0], [1, 1, 1], [0, 1, 0]]` for 8-connectivity.\r\n",
    "  - A 3D array for 3D images.\r\n",
    "  - A custom structuring element that defines the desired connectivity.\r\n",
    "\r\n",
    "## Example: `ndimage.label`\r\n",
    "\r\n",
    "The `ndimage.label` function uses the `structure` parameter to identify and label connected components in a binary image. For example:\r\n",
    "\r\n",
    "```python\r\n",
    "import numpy as np\r\n",
    "from scipy import ndimage\r\n",
    "\r\n",
    "mask = np.array([[0, 0, 1, 1, 0],\r\n",
    "                 [0, 1, 1, 0, 0],\r\n",
    "                 [1, 1, 0, 0, 1],\r\n",
    "                 [0, 0, 0, 1, 1],\r\n",
    "                 [0, 0, 0, 0, 0]])\r\n",
    "\r\n",
    "# 8-connectivity\r\n",
    "structure = np.array([[1, 1, 1],\r\n",
    "                      [1, 1, 1],\r\n",
    "                      [1, 1, 1]])\r\n",
    "\r\n",
    "label_mask, num_labels = ndimage.label(mask, structure=structure)\r\n",
    "```\r\n",
    "\r\n",
    "In this case, the `structure` parameter is set to a 3x3 array, which defines 8-connectivity in 2D. This means that diagonal neighbors are also considered part of the same connected component, in addition to direct neighbors.\r\n",
    "\r\n",
    "The `label_mask` output will be an array of the same shape as `mask`, where each connected component is assigned a unique label (integer value). The `num_labels` output indicates the total number of connected components found.\r\n",
    "\r\n",
    "## Importance of Connectivity\r\n",
    "\r\n",
    "Choosing the appropriate connectivity is crucial in image processing tasks such as segmentation, object counting, and feature extraction. It depends on the specific application and the desired level of s://www.tutorialspoint.com/scipy/scipy_ndimage.htm"
   ]
  },
  {
   "cell_type": "code",
   "execution_count": 21,
   "id": "454a68ca-fc63-42c6-81e5-0c19f057d132",
   "metadata": {},
   "outputs": [],
   "source": [
    "# step 4 label the grains \n",
    "s = [[1,1,1], [1,1,1], [1,1,1]] # structure specifies when to connect a pixel to nearby services \n",
    "label_mask, num_labels = ndimage.label(mask, structure=s)"
   ]
  },
  {
   "cell_type": "code",
   "execution_count": 22,
   "id": "8f40c39d-b820-4ae5-ba55-2f33d7623aa5",
   "metadata": {},
   "outputs": [],
   "source": [
    "img2 = color.label2rgb(label_mask, bg_label=0)"
   ]
  },
  {
   "cell_type": "code",
   "execution_count": 27,
   "id": "b3613cbd-55f9-4387-a682-23a93b6c3c79",
   "metadata": {},
   "outputs": [
    {
     "name": "stdout",
     "output_type": "stream",
     "text": [
      "118.18376618407358\n"
     ]
    }
   ],
   "source": [
    "# step5\n",
    "clustres = measure.regionprops(label_mask, img)\n",
    "print(clustres[0].perimeter)"
   ]
  },
  {
   "cell_type": "code",
   "execution_count": 29,
   "id": "4b7e1081-7d76-4cb4-9def-79bf8bc4ddeb",
   "metadata": {},
   "outputs": [
    {
     "name": "stdout",
     "output_type": "stream",
     "text": [
      "Label: 1 Area: 415.0\n",
      "Label: 2 Area: 187.0\n",
      "Label: 3 Area: 221.0\n",
      "Label: 4 Area: 12.0\n",
      "Label: 5 Area: 524.0\n",
      "Label: 6 Area: 327.0\n",
      "Label: 7 Area: 48.0\n",
      "Label: 8 Area: 212.0\n",
      "Label: 9 Area: 198.0\n",
      "Label: 10 Area: 1228.0\n",
      "Label: 11 Area: 1479.0\n",
      "Label: 12 Area: 221.0\n",
      "Label: 13 Area: 15.0\n",
      "Label: 14 Area: 84.0\n",
      "Label: 15 Area: 153.0\n",
      "Label: 16 Area: 1423.0\n",
      "Label: 17 Area: 69.0\n",
      "Label: 18 Area: 296.0\n",
      "Label: 19 Area: 172.0\n",
      "Label: 20 Area: 358.0\n",
      "Label: 21 Area: 293.0\n",
      "Label: 22 Area: 1304.0\n",
      "Label: 23 Area: 321.0\n",
      "Label: 24 Area: 123.0\n",
      "Label: 25 Area: 418.0\n",
      "Label: 26 Area: 847.0\n",
      "Label: 27 Area: 589.0\n",
      "Label: 28 Area: 18.0\n",
      "Label: 29 Area: 999.0\n",
      "Label: 30 Area: 345.0\n",
      "Label: 31 Area: 159.0\n",
      "Label: 32 Area: 1837.0\n",
      "Label: 33 Area: 22.0\n",
      "Label: 34 Area: 713.0\n",
      "Label: 35 Area: 62.0\n",
      "Label: 36 Area: 42.0\n",
      "Label: 37 Area: 35.0\n",
      "Label: 38 Area: 191.0\n",
      "Label: 39 Area: 845.0\n",
      "Label: 40 Area: 1114.0\n",
      "Label: 41 Area: 120.0\n",
      "Label: 42 Area: 278.0\n",
      "Label: 43 Area: 453.0\n",
      "Label: 44 Area: 40.0\n",
      "Label: 45 Area: 354.0\n",
      "Label: 46 Area: 216.0\n",
      "Label: 47 Area: 622.0\n",
      "Label: 48 Area: 48.0\n",
      "Label: 49 Area: 152.0\n",
      "Label: 50 Area: 212.0\n",
      "Label: 51 Area: 291.0\n",
      "Label: 52 Area: 234.0\n",
      "Label: 53 Area: 163.0\n",
      "Label: 54 Area: 1330.0\n",
      "Label: 55 Area: 235.0\n",
      "Label: 56 Area: 231.0\n",
      "Label: 57 Area: 516.0\n",
      "Label: 58 Area: 385.0\n",
      "Label: 59 Area: 26.0\n",
      "Label: 60 Area: 245.0\n",
      "Label: 61 Area: 1767.0\n",
      "Label: 62 Area: 2412.0\n",
      "Label: 63 Area: 423.0\n",
      "Label: 64 Area: 16.0\n",
      "Label: 65 Area: 418.0\n",
      "Label: 66 Area: 270.0\n",
      "Label: 67 Area: 44.0\n",
      "Label: 68 Area: 130.0\n",
      "Label: 69 Area: 1291.0\n",
      "Label: 70 Area: 32.0\n",
      "Label: 71 Area: 1392.0\n",
      "Label: 72 Area: 69.0\n",
      "Label: 73 Area: 22.0\n",
      "Label: 74 Area: 12.0\n",
      "Label: 75 Area: 31.0\n",
      "Label: 76 Area: 350.0\n",
      "Label: 77 Area: 351.0\n",
      "Label: 78 Area: 20.0\n",
      "Label: 79 Area: 2519.0\n",
      "Label: 80 Area: 292.0\n",
      "Label: 81 Area: 343.0\n",
      "Label: 82 Area: 483.0\n",
      "Label: 83 Area: 368.0\n",
      "Label: 84 Area: 99.0\n",
      "Label: 85 Area: 153.0\n",
      "Label: 86 Area: 527.0\n",
      "Label: 87 Area: 31.0\n",
      "Label: 88 Area: 1179.0\n",
      "Label: 89 Area: 332.0\n",
      "Label: 90 Area: 144.0\n",
      "Label: 91 Area: 653.0\n",
      "Label: 92 Area: 243.0\n",
      "Label: 93 Area: 522.0\n",
      "Label: 94 Area: 54.0\n",
      "Label: 95 Area: 148.0\n",
      "Label: 96 Area: 701.0\n",
      "Label: 97 Area: 255.0\n",
      "Label: 98 Area: 219.0\n",
      "Label: 99 Area: 666.0\n",
      "Label: 100 Area: 180.0\n",
      "Label: 101 Area: 828.0\n",
      "Label: 102 Area: 965.0\n",
      "Label: 103 Area: 118.0\n",
      "Label: 104 Area: 106.0\n",
      "Label: 105 Area: 83.0\n",
      "Label: 106 Area: 264.0\n",
      "Label: 107 Area: 411.0\n",
      "Label: 108 Area: 141.0\n",
      "Label: 109 Area: 220.0\n",
      "Label: 110 Area: 511.0\n",
      "Label: 111 Area: 213.0\n",
      "Label: 112 Area: 596.0\n",
      "Label: 113 Area: 122.0\n",
      "Label: 114 Area: 284.0\n",
      "Label: 115 Area: 603.0\n",
      "Label: 116 Area: 736.0\n",
      "Label: 117 Area: 39.0\n",
      "Label: 118 Area: 316.0\n",
      "Label: 119 Area: 114.0\n",
      "Label: 120 Area: 887.0\n",
      "Label: 121 Area: 18.0\n",
      "Label: 122 Area: 51.0\n",
      "Label: 123 Area: 281.0\n",
      "Label: 124 Area: 106.0\n",
      "Label: 125 Area: 699.0\n",
      "Label: 126 Area: 409.0\n",
      "Label: 127 Area: 1532.0\n",
      "Label: 128 Area: 36.0\n",
      "Label: 129 Area: 538.0\n",
      "Label: 130 Area: 181.0\n",
      "Label: 131 Area: 318.0\n",
      "Label: 132 Area: 1067.0\n",
      "Label: 133 Area: 391.0\n",
      "Label: 134 Area: 59.0\n",
      "Label: 135 Area: 84.0\n",
      "Label: 136 Area: 35.0\n",
      "Label: 137 Area: 611.0\n",
      "Label: 138 Area: 191.0\n",
      "Label: 139 Area: 573.0\n",
      "Label: 140 Area: 544.0\n",
      "Label: 141 Area: 1253.0\n",
      "Label: 142 Area: 145.0\n",
      "Label: 143 Area: 551.0\n",
      "Label: 144 Area: 897.0\n",
      "Label: 145 Area: 184.0\n",
      "Label: 146 Area: 638.0\n",
      "Label: 147 Area: 68.0\n",
      "Label: 148 Area: 150.0\n",
      "Label: 149 Area: 102.0\n",
      "Label: 150 Area: 202.0\n",
      "Label: 151 Area: 211.0\n",
      "Label: 152 Area: 1096.0\n",
      "Label: 153 Area: 1022.0\n",
      "Label: 154 Area: 947.0\n",
      "Label: 155 Area: 67.0\n",
      "Label: 156 Area: 116.0\n",
      "Label: 157 Area: 1095.0\n",
      "Label: 158 Area: 807.0\n",
      "Label: 159 Area: 150.0\n",
      "Label: 160 Area: 302.0\n",
      "Label: 161 Area: 95.0\n",
      "Label: 162 Area: 402.0\n",
      "Label: 163 Area: 723.0\n",
      "Label: 164 Area: 941.0\n",
      "Label: 165 Area: 253.0\n",
      "Label: 166 Area: 397.0\n",
      "Label: 167 Area: 984.0\n",
      "Label: 168 Area: 707.0\n",
      "Label: 169 Area: 1021.0\n",
      "Label: 170 Area: 28.0\n",
      "Label: 171 Area: 282.0\n",
      "Label: 172 Area: 779.0\n",
      "Label: 173 Area: 272.0\n",
      "Label: 174 Area: 339.0\n",
      "Label: 175 Area: 235.0\n",
      "Label: 176 Area: 488.0\n",
      "Label: 177 Area: 263.0\n",
      "Label: 178 Area: 412.0\n",
      "Label: 179 Area: 246.0\n",
      "Label: 180 Area: 784.0\n",
      "Label: 181 Area: 636.0\n",
      "Label: 182 Area: 1048.0\n",
      "Label: 183 Area: 1164.0\n",
      "Label: 184 Area: 578.0\n",
      "Label: 185 Area: 410.0\n",
      "Label: 186 Area: 62.0\n",
      "Label: 187 Area: 1256.0\n",
      "Label: 188 Area: 1708.0\n",
      "Label: 189 Area: 308.0\n",
      "Label: 190 Area: 264.0\n",
      "Label: 191 Area: 454.0\n",
      "Label: 192 Area: 603.0\n",
      "Label: 193 Area: 240.0\n",
      "Label: 194 Area: 262.0\n",
      "Label: 195 Area: 23.0\n",
      "Label: 196 Area: 163.0\n",
      "Label: 197 Area: 76.0\n",
      "Label: 198 Area: 554.0\n",
      "Label: 199 Area: 1377.0\n",
      "Label: 200 Area: 518.0\n",
      "Label: 201 Area: 1227.0\n",
      "Label: 202 Area: 25.0\n",
      "Label: 203 Area: 36.0\n",
      "Label: 204 Area: 250.0\n",
      "Label: 205 Area: 814.0\n",
      "Label: 206 Area: 202.0\n",
      "Label: 207 Area: 489.0\n",
      "Label: 208 Area: 129.0\n",
      "Label: 209 Area: 818.0\n",
      "Label: 210 Area: 316.0\n",
      "Label: 211 Area: 509.0\n",
      "Label: 212 Area: 24.0\n",
      "Label: 213 Area: 301.0\n",
      "Label: 214 Area: 90.0\n",
      "Label: 215 Area: 327.0\n",
      "Label: 216 Area: 999.0\n",
      "Label: 217 Area: 224.0\n",
      "Label: 218 Area: 453.0\n",
      "Label: 219 Area: 1199.0\n",
      "Label: 220 Area: 931.0\n",
      "Label: 221 Area: 18.0\n",
      "Label: 222 Area: 317.0\n",
      "Label: 223 Area: 18.0\n",
      "Label: 224 Area: 22.0\n",
      "Label: 225 Area: 498.0\n",
      "Label: 226 Area: 1277.0\n",
      "Label: 227 Area: 15.0\n",
      "Label: 228 Area: 157.0\n",
      "Label: 229 Area: 141.0\n",
      "Label: 230 Area: 508.0\n",
      "Label: 231 Area: 62.0\n",
      "Label: 232 Area: 336.0\n",
      "Label: 233 Area: 159.0\n",
      "Label: 234 Area: 110.0\n",
      "Label: 235 Area: 962.0\n",
      "Label: 236 Area: 57.0\n",
      "Label: 237 Area: 30.0\n",
      "Label: 238 Area: 296.0\n",
      "Label: 239 Area: 93.0\n",
      "Label: 240 Area: 44.0\n",
      "Label: 241 Area: 621.0\n",
      "Label: 242 Area: 660.0\n",
      "Label: 243 Area: 176.0\n",
      "Label: 244 Area: 371.0\n",
      "Label: 245 Area: 984.0\n",
      "Label: 246 Area: 528.0\n",
      "Label: 247 Area: 45.0\n",
      "Label: 248 Area: 117.0\n",
      "Label: 249 Area: 281.0\n",
      "Label: 250 Area: 9.0\n",
      "Label: 251 Area: 577.0\n",
      "Label: 252 Area: 65.0\n",
      "Label: 253 Area: 53.0\n",
      "Label: 254 Area: 362.0\n",
      "Label: 255 Area: 453.0\n",
      "Label: 256 Area: 571.0\n",
      "Label: 257 Area: 355.0\n",
      "Label: 258 Area: 51.0\n",
      "Label: 259 Area: 174.0\n",
      "Label: 260 Area: 160.0\n",
      "Label: 261 Area: 60.0\n",
      "Label: 262 Area: 187.0\n",
      "Label: 263 Area: 93.0\n",
      "Label: 264 Area: 135.0\n",
      "Label: 265 Area: 70.0\n",
      "Label: 266 Area: 1019.0\n",
      "Label: 267 Area: 109.0\n",
      "Label: 268 Area: 53.0\n",
      "Label: 269 Area: 816.0\n",
      "Label: 270 Area: 743.0\n",
      "Label: 271 Area: 186.0\n",
      "Label: 272 Area: 338.0\n",
      "Label: 273 Area: 12.0\n",
      "Label: 274 Area: 39.0\n",
      "Label: 275 Area: 229.0\n",
      "Label: 276 Area: 37.0\n",
      "Label: 277 Area: 407.0\n",
      "Label: 278 Area: 455.0\n",
      "Label: 279 Area: 565.0\n",
      "Label: 280 Area: 46.0\n",
      "Label: 281 Area: 115.0\n",
      "Label: 282 Area: 397.0\n",
      "Label: 283 Area: 196.0\n",
      "Label: 284 Area: 462.0\n",
      "Label: 285 Area: 165.0\n",
      "Label: 286 Area: 146.0\n",
      "Label: 287 Area: 274.0\n",
      "Label: 288 Area: 89.0\n",
      "Label: 289 Area: 84.0\n",
      "Label: 290 Area: 234.0\n",
      "Label: 291 Area: 56.0\n",
      "Label: 292 Area: 55.0\n",
      "Label: 293 Area: 31.0\n",
      "Label: 294 Area: 28.0\n",
      "Label: 295 Area: 35.0\n",
      "Label: 296 Area: 34.0\n"
     ]
    }
   ],
   "source": [
    "for prop in clustres:\n",
    "    print('Label: {} Area: {}'.format(prop.label, prop.area))"
   ]
  },
  {
   "cell_type": "code",
   "execution_count": 34,
   "id": "729c26dd-5a62-410c-ad46-905724192c7d",
   "metadata": {},
   "outputs": [],
   "source": [
    "# step 6 put results in CSV\n",
    "propList = ['Area',\n",
    "            'equivalent_diameter',\n",
    "            'orientation',\n",
    "            'MajorAxisLength',\n",
    "            'MinorAxisLength',\n",
    "            'Perimeter',\n",
    "            'MinIntensity',\n",
    "            'MeanIntensity',\n",
    "            'MaxIntensity']"
   ]
  },
  {
   "cell_type": "code",
   "execution_count": 35,
   "id": "cb2c85ca-fdeb-4689-bd37-a778cbf3dd2b",
   "metadata": {},
   "outputs": [
    {
     "data": {
      "text/plain": [
       "120"
      ]
     },
     "execution_count": 35,
     "metadata": {},
     "output_type": "execute_result"
    }
   ],
   "source": [
    "output_file = open('image_measurement', 'w')\n",
    "output_file.write((\",\" + \",\".join(propList) + '\\n'))"
   ]
  },
  {
   "cell_type": "code",
   "execution_count": 36,
   "id": "224d1515-0e92-4946-a689-44a0437f6bf8",
   "metadata": {},
   "outputs": [],
   "source": [
    "for cluster_props in clustres:\n",
    "    output_file.write(str(cluster_props['Label']))\n",
    "    for i, prop in enumerate(propList):\n",
    "        if(prop == 'Area'):\n",
    "            to_print = cluster_props[prop]*pixels_to_um**2 # convet pixel square to um\n",
    "        elif(prop == 'orientation'):\n",
    "            to_print = cluster_props[prop]*57.2958 # convert degrees from radians\n",
    "        elif(prop.find('Intensity') < 0): # any prop without intensity \n",
    "            to_print = cluster_props[prop]*pixels_to_um\n",
    "        else:\n",
    "            to_print = cluster_props[prop]\n",
    "        output_file.write(',' + str(to_print))\n",
    "    output_file.write('\\n')"
   ]
  },
  {
   "cell_type": "code",
   "execution_count": 23,
   "id": "5c682b09-e97c-4049-83f8-814c55d358f4",
   "metadata": {},
   "outputs": [],
   "source": [
    "cv2.imshow('img', thresh)\n",
    "cv2.imshow('img1', eroded)\n",
    "cv2.imshow('img2', dialate)\n",
    "cv2.imshow('img222', img2)\n",
    "cv2.waitKey(0)\n",
    "cv2.destroyAllWindows()"
   ]
  },
  {
   "cell_type": "markdown",
   "id": "72832912-1ecb-4254-9c26-b3622971c477",
   "metadata": {},
   "source": [
    "# OTSU THRESHOLD PROCESS\n",
    "Here is the step-by-step algorithm for Otsu's thresholding method in OpenCV (cv2):\r\n",
    "\r\n",
    "## Otsu's Thresholding Algorithm\r\n",
    "\r\n",
    "1. **Load the grayscale image** into a numpy array using `cv2.imread(filename, cv2.IMREAD_GRAYSCALE)`[1][2]\r\n",
    "\r\n",
    "2. **Compute the histogram** of the image using `cv2.calcHist([img], , None, [256], [0, 256])`[3][5]\r\n",
    "\r\n",
    "3. **Normalize the histogram** to obtain the probability distribution of each intensity level[3]\r\n",
    "\r\n",
    "4. **Initialize variables**: total number of pixels (N), sum of all intensity levels (sum_total), and maximum variance (max_variance)[3]\r\n",
    "\r\n",
    "5. **Iterate through all possible threshold values (t) from 0 to 255**:[3][5]\r\n",
    "   - **Calculate the probabilities** of the two classes (foreground and background) separated by the threshold t:\r\n",
    "     $$q_1(t) = \\sum_{i=1}^{t} P(i) \\quad \\& \\quad q_2(t) = \\sum_{i=t+1}^{I} P(i)$$\r\n",
    "   - **Calculate the means** of the two classes:\r\n",
    "     $$\\mu_1(t) = \\sum_{i=1}^{t} \\frac{iP(i)}{q_1(t)} \\quad \\& \\quad \\mu_2(t) = \\sum_{i=t+1}^{I} \\frac{iP(i)}{q_2(t)}$$\r\n",
    "   - **Calculate the between-class variance**:\r\n",
    "     $$\\sigma_b^2(t) = q_1(t)[1-q_1(t)][(\\mu_1(t)-\\mu_2(t))]^2$$\r\n",
    "   - **Update the maximum variance** if the current variance is greater[3]\r\n",
    "\r\n",
    "6. **The threshold t that maximizes the between-class variance** is the optimal threshold value (T_otsu)[3][5]\r\n",
    "\r\n",
    "7. **Apply thresholding** using `cv2.threshold(img, T_otsu, 255, cv2.THRESH_BINARY)` to obtain the binary image[1][2][4]\r\n",
    "\r\n",
    "The key steps are:\r\n",
    "- Compute the histogram and normalize it to get probability distribution\r\n",
    "- Iterate through all possible thresholds \r\n",
    "- Calculate the between-class variance for each threshold\r\n",
    "- The threshold that maximizes the variance is the optimal Otsu threshold\r\n",
    "- Apply thresholding using the optimal threshold to get the binary image\r\n",
    "\r\n",
    "This algorithm automatically determines the optimal threshold value that separates the foreground and background pixels based on maximizing the v\n",
    "\n",
    "# IN DETAIL ABOUT THE OUTSU THRESHOLDING \n",
    "Otsu's thresholding is a widely used technique in image processing for automatic image binarization. It operates by finding an optimal threshold that separates the image into two classes: foreground and background. This method is particularly effective for images with bimodal histograms, where two distinct peaks represent the two classes. Here’s a detailed explanation of the working process of Otsu's thresholding.\r\n",
    "\r\n",
    "## Steps of Otsu's Thresholding\r\n",
    "\r\n",
    "### 1. Compute the Histogram\r\n",
    "The first step is to calculate the grayscale histogram of the image. The histogram represents the distribution of pixel intensity values, showing how many pixels fall into each intensity level (0-255 for an 8-bit image).\r\n",
    "\r\n",
    "### 2. Normalize the Histogram\r\n",
    "Next, the histogram is normalized to obtain the probability distribution of each intensity level. This is done by dividing the count of each intensity level by the total number of pixels in the image.\r\n",
    "\r\n",
    "### 3. Initialize Variables\r\n",
    "Several variables are initialized to facilitate the calculation of class probabilities and variances:\r\n",
    "- **Total number of pixels (N)**: This is the sum of all pixel counts.\r\n",
    "- **Sum of all intensity levels (sum_total)**: This is the weighted sum of all pixel intensities.\r\n",
    "- **Maximum variance (max_variance)**: This variable will store the highest between-class variance found during the iteration.\r\n",
    "\r\n",
    "### 4. Iterate Through All Possible Threshold Values\r\n",
    "The core of Otsu's method involves iterating through all possible threshold values (t) from 0 to 255. For each threshold, the following calculations are performed:\r\n",
    "\r\n",
    "#### a. Class Probabilities\r\n",
    "Calculate the probabilities of the two classes (foreground and background) separated by the threshold:\r\n",
    "- **Background probability** $$ q_1(t) $$: This is the sum of probabilities for all intensity levels up to t.\r\n",
    "- **Foreground probability** $$ q_2(t) $$: This is the sum of probabilities for all intensity levels above t.\r\n",
    "\r\n",
    "#### b. Class Means\r\n",
    "Calculate the means of the two classes:\r\n",
    "- **Mean of the background** $$ \\mu_1(t) $$: This is the average intensity of pixels in the background class.\r\n",
    "- **Mean of the foreground** $$ \\mu_2(t) $$: This is the average intensity of pixels in the foreground class.\r\n",
    "\r\n",
    "#### c. Between-Class Variance\r\n",
    "Compute the between-class variance using the formula:\r\n",
    "$$\r\n",
    "\\sigma_b^2(t) = q_1(t) \\cdot q_2(t) \\cdot (\\mu_1(t) - \\mu_2(t))^2\r\n",
    "$$\r\n",
    "This variance measures how well the two classes are separated by the threshold.\r\n",
    "\r\n",
    "### 5. Update Maximum Variance\r\n",
    "If the calculated between-class variance for the current threshold exceeds the maximum variance found so far, update the maximum variance and store the corresponding threshold value.\r\n",
    "\r\n",
    "### 6. Determine Optimal Threshold\r\n",
    "After iterating through all possible threshold values, the threshold that maximizes the between-class variance is selected as the optimal threshold (T_otsu).\r\n",
    "\r\n",
    "### 7. Apply Thresholding\r\n",
    "Finally, the optimal threshold is used to convert the grayscale image into a binary image. Pixels with intensity values greater than or equal to T_otsu are set to white (foreground), while those below are set to black (background).\r\n",
    "\r\n",
    "## Advantages and Limitations\r\n",
    "Otsu's method is advantageous because it does not require prior knowledge about the image and automatically computes the optimal threshold. However, it is most effective for bimodal distributions and may struggle with images that have overlapping distributions or noise.\r\n",
    "\r\n",
    "In summary, Otsu's thresholding method is a powerful tool for image segmentation, leveraging statistical properties of pixel intensities to achieve effective binarization. It is widely implemented in various image processing applications, particularly in scenarios where distinguishi//docs.opencv.org/4.x/d7/d4d/tutorial_py_thresholding.htmlatacamp.com/tutorial/histograms-matplotlib"
   ]
  },
  {
   "cell_type": "markdown",
   "id": "c2c4a0c0-4ef6-4773-b169-7d9b1a681b34",
   "metadata": {},
   "source": [
    "# WATERSHED ALGORITHM\n",
    "The watershed algorithm is a powerful image segmentation technique used to separate touching or overlapping objects in an image. It is particularly useful in scenarios where traditional methods, such as thresholding and contour detection, fail to accurately delineate boundaries between objects.\r\n",
    "\r\n",
    "## Overview of the Watershed Algorithm\r\n",
    "\r\n",
    "### Concept\r\n",
    "The watershed algorithm treats an image as a topographic surface, where pixel intensity values represent elevation. In this context:\r\n",
    "\r\n",
    "- **High-intensity pixels** correspond to peaks (hills).\r\n",
    "- **Low-intensity pixels** correspond to valleys.\r\n",
    "\r\n",
    "The algorithm works by simulating the flooding of these valleys from predefined markers (which represent known object locations) until they meet. This process helps in identifying the boundaries between different regions.\r\n",
    "\r\n",
    "### Steps Involved\r\n",
    "1. **Marker Definition**: Markers can be defined manually or automatically through techniques like morphological operations or distance transforms. These markers indicate the starting points for the flooding process.\r\n",
    "  \r\n",
    "2. **Distance Transform**: A distance transform is often computed to help identify the local minima (valleys) in the image, which are essential for defining the watershed lines.\r\n",
    "\r\n",
    "3. **Flooding Process**: The algorithm floods from the markers, filling the valleys with \"water.\" As water from different markers meets, barriers are created, effectively segmenting the image into distinct regions.\r\n",
    "\r\n",
    "4. **Segmentation Result**: The output is a labeled image where each unique label corresponds to a different object or region within the original image.\r\n",
    "\r\n",
    "### Applications\r\n",
    "The watershed algorithm is particularly effective in various fields, including:\r\n",
    "\r\n",
    "- **Medical Imaging**: Segmenting cells or tissues in histological images.\r\n",
    "- **Biological Research**: Analyzing structures like blood cells or other microscopic entities.\r\n",
    "- **Industrial Inspection**: Identifying defects or features in materials and products.\r\n",
    "\r\n",
    "### Advantages\r\n",
    "- **Handles Overlapping Objects**: Unlike simple thresholding, watershed can effectively separate objects that are touching or overlapping.\r\n",
    "- **Flexible Marker Definition**: Markers can be user-defined or generated through automated processes, making it adaptable to different scenarios.\r\n",
    "\r\n",
    "### Limitations\r\n",
    "- **Oversegmentation**: The algorithm can produce too many segments if there are noise or small variations in the image. Techniques such as marker-controlled watershed can mitigate this by refining marker placement and reducing noise impact[1][2][5].\r\n",
    "\r\n",
    "In summary, the watershed algorithm is a versatile and robust method for image segmentation that excels at distinguishing closely spaced objects, making it invaluable in many practical a\n",
    "\n",
    "# GRADIENT IMAGE PROCESSING \n",
    "## What is a Gradient in Image Processing?\r\n",
    "\r\n",
    "A gradient in image processing is a directional change in the intensity or color in an image. It measures how quickly the image changes at a particular point and in a particular direction. The gradient of an image is a vector field that points in the direction of the greatest rate of change of the image intensity at each point.\r\n",
    "\r\n",
    "Mathematically, the gradient of an image f(x, y) is defined as:\r\n",
    "\r\n",
    "$$\\nabla f = \\left(\\frac{\\partial f}{\\partial x}, \\frac{\\partial f}{\\partial y}\\right)$$\r\n",
    "\r\n",
    "Where:\r\n",
    "- ∇ is the nabla operator\r\n",
    "- ∂f/∂x is the partial derivative of f with respect to x (horizontal direction)\r\n",
    "- ∂f/∂y is the partial derivative of f with respect to y (vertical direction)\r\n",
    "\r\n",
    "The magnitude of the gradient vector is given by:\r\n",
    "\r\n",
    "$$|\\nabla f| = \\sqrt{\\left(\\frac{\\partial f}{\\partial x}\\right)^2 + \\left(\\frac{\\partial f}{\\partial y}\\right)^2}$$\r\n",
    "\r\n",
    "And the direction of the gradient vector is given by:\r\n",
    "\r\n",
    "$$\\theta = \\arctan\\left(\\frac{\\frac{\\partial f}{\\partial y}}{\\frac{\\partial f}{\\partial x}}\\right)$$\r\n",
    "\r\n",
    "## Applications of Gradients in Image Processing\r\n",
    "\r\n",
    "Gradients are widely used in various image processing tasks:\r\n",
    "\r\n",
    "1. **Edge Detection**: Gradients are used to detect edges in an image by finding points where the image intensity changes rapidly. Popular edge detection algorithms like Sobel, Prewitt, and Canny use gradients.\r\n",
    "\r\n",
    "2. **Image Segmentation**: Gradients help in separating an image into different regions based on changes in intensity. Techniques like the watershed algorithm use gradients for segmentation.\r\n",
    "\r\n",
    "3. **Feature Extraction**: Gradient-based features like Histogram of Oriented Gradients (HOG) are used for object detection and recognition.\r\n",
    "\r\n",
    "4. **Image Enhancement**: Gradients can be used to enhance edges and details in an image, making them more visible.\r\n",
    "\r\n",
    "5. **Optical Flow**: In computer vision, gradients are used to estimate the motion of objects between consecutive frames in a video sequence.\r\n",
    "\r\n",
    "## Gradient Computation Methods\r\n",
    "\r\n",
    "There are several methods to compute gradients in an image:\r\n",
    "\r\n",
    "1. **Finite Differences**: The simplest method is to use finite differences to approximate the partial derivatives. For example, the Sobel operator uses a pair of 3x3 convolution kernels to estimate the gradients.\r\n",
    "\r\n",
    "2. **Gaussian Derivatives**: The image is first smoothed with a Gaussian filter to reduce noise, then the derivatives are computed using finite differences.\r\n",
    "\r\n",
    "3. **Steerable Filters**: These are a class of filters that can be oriented in any direction by combining a set of basis filters. They provide a more accurate gradient estimation.\r\n",
    "\r\n",
    "4. **Machine Learning**: Gradient estimation can also be learned from data using techniques like convolutional neural networks.\r\n",
    "\r\n",
    "In summary, gradients are a fundamental concept in image processing that measure the rate of change in image intensity. They are essential for many applications like edge ds://docs.opencv.org/4.x/d3/db4/tutorial_py_watershed.htmlathworks.com/help/images/ref/regionprops.html"
   ]
  },
  {
   "cell_type": "code",
   "execution_count": 2,
   "id": "4a43ce35-9d2e-475a-93be-2e6ce2ac8086",
   "metadata": {},
   "outputs": [],
   "source": [
    "#!/usr/bin/env python\n",
    "__author__ = \"Sreenivas Bhattiprolu\"\n",
    "__license__ = \"Feel free to copy, I appreciate if you acknowledge Python for Microscopists\"\n",
    "\n",
    "# https://www.youtube.com/watch?v=WyQ-3Fjay7A\n",
    "\n",
    "\n",
    "\"\"\"\n",
    "https://opencv-python-tutroals.readthedocs.io/en/latest/py_tutorials/py_imgproc/py_watershed/py_watershed.html\n",
    "\n",
    "This code performs grain size distribution analysis and dumps results into a csv file.\n",
    "It uses watershed segmentation for better segmentation.\n",
    "Compare results to regular segmentation. \n",
    "\"\"\"\n",
    "\n",
    "import cv2\n",
    "import numpy as np\n",
    "from matplotlib import pyplot as plt\n",
    "from scipy import ndimage\n",
    "from skimage import measure, color, io\n",
    "\n",
    "img1 = cv2.imread(\"imgs/grains2.jpg\")\n",
    "img = cv2.cvtColor(img1,cv2.COLOR_BGR2GRAY)\n",
    "\n",
    "\n",
    "pixels_to_um = 0.5 # 1 pixel = 500 nm (got this from the metadata of original image)\n",
    "\n",
    "#Threshold image to binary using OTSU. ALl thresholded pixels will be set to 255\n",
    "ret1, thresh = cv2.threshold(img, 0, 255, cv2.THRESH_BINARY+cv2.THRESH_OTSU)\n",
    "\n",
    "\n",
    "# Morphological operations to remove small noise - opening\n",
    "#To remove holes we can use closing\n",
    "kernel = np.ones((3,3),np.uint8)\n",
    "opening = cv2.morphologyEx(thresh,cv2.MORPH_OPEN,kernel, iterations = 2)\n",
    "\n",
    "from skimage.segmentation import clear_border\n",
    "opening = clear_border(opening) #Remove edge touching grains\n",
    "#Check the total regions found before and after applying this. \n",
    "\n",
    "\n",
    "#Now we know that the regions at the center of cells is for sure cells\n",
    "#The region far away is background.\n",
    "#We need to extract sure regions. For that we can use erode. \n",
    "#But we have cells touching, so erode alone will not work. \n",
    "#To separate touching objects, the best approach would be distance transform and then thresholding.\n",
    "\n",
    "# let us start by identifying sure background area\n",
    "# dilating pixes a few times increases cell boundary to background. \n",
    "# This way whatever is remaining for sure will be background. \n",
    "#The area in between sure background and foreground is our ambiguous area. \n",
    "#Watershed should find this area for us. \n",
    "sure_bg = cv2.dilate(opening,kernel,iterations=2)\n",
    "\n",
    "\n",
    "# Finding sure foreground area using distance transform and thresholding\n",
    "#intensities of the points inside the foreground regions are changed to \n",
    "#distance their respective distances from the closest 0 value (boundary).\n",
    "#https://www.tutorialspoint.com/opencv/opencv_distance_transformation.htm\n",
    "dist_transform = cv2.distanceTransform(opening,cv2.DIST_L2,3)\n",
    "\n",
    "#Let us threshold the dist transform by 20% its max value.\n",
    "#print(dist_transform.max()) gives about 21.9\n",
    "ret2, sure_fg = cv2.threshold(dist_transform,0.2*dist_transform.max(),255,0)\n",
    "\n",
    "#0.2* max value seems to separate the cells well.\n",
    "#High value like 0.5 will not recognize some grain boundaries.\n",
    "\n",
    "# Unknown ambiguous region is nothing but bkground - foreground\n",
    "sure_fg = np.uint8(sure_fg)\n",
    "\n",
    "unknown = cv2.subtract(sure_bg,sure_fg)\n",
    "\n",
    "#Now we create a marker and label the regions inside. \n",
    "# For sure regions, both foreground and background will be labeled with positive numbers.\n",
    "# Unknown regions will be labeled 0. \n",
    "#For markers let us use ConnectedComponents. \n",
    "ret3, markers = cv2.connectedComponents(sure_fg)\n",
    "\n",
    "#One problem rightnow is that the entire background pixels is given value 0.\n",
    "#This means watershed considers this region as unknown.\n",
    "#So let us add 10 to all labels so that sure background is not 0, but 10\n",
    "markers = markers+10\n",
    "\n",
    "# Now, mark the region of unknown with zero\n",
    "markers[unknown==255] = 0\n",
    "#plt.imshow(markers, cmap='jet')   #Look at the 3 distinct regions.\n",
    "\n",
    "#Now we are ready for watershed filling. \n",
    "markers = cv2.watershed(img1,markers)\n",
    "#The boundary region will be marked -1\n",
    "#https://docs.opencv.org/3.3.1/d7/d1b/group__imgproc__misc.html#ga3267243e4d3f95165d55a618c65ac6e1\n",
    "\n",
    "\n",
    "#Let us color boundaries in yellow. OpenCv assigns boundaries to -1 after watershed.\n",
    "img1[markers == -1] = [0,255,255]  \n",
    "\n",
    "img2 = color.label2rgb(markers, bg_label=0)\n",
    "\n",
    "cv2.imshow('Overlay on original image', img1)\n",
    "cv2.imshow('Colored Grains', img2)\n",
    "cv2.waitKey(0)\n",
    "\n",
    "#Now, time to extract properties of detected cells\n",
    "# regionprops function in skimage measure module calculates useful parameters for each object.\n",
    "regions = measure.regionprops(markers, intensity_image=img)\n",
    "\n",
    "#Can print various parameters for all objects\n",
    "#for prop in regions:\n",
    "#    print('Label: {} Area: {}'.format(prop.label, prop.area))\n",
    "\n",
    "#Best way is to output all properties to a csv file\n",
    "#Let us pick which ones we want to export. \n",
    "\n",
    "propList = ['Area',\n",
    "            'equivalent_diameter', #Added... verify if it works\n",
    "            'orientation', #Added, verify if it works. Angle btwn x-axis and major axis.\n",
    "            'MajorAxisLength',\n",
    "            'MinorAxisLength',\n",
    "            'Perimeter',\n",
    "            'MinIntensity',\n",
    "            'MeanIntensity',\n",
    "            'MaxIntensity']    \n",
    "    \n",
    "\n",
    "output_file = open('image_measurements.csv', 'w')\n",
    "output_file.write('Grain #' + \",\" + \",\" + \",\".join(propList) + '\\n') #join strings in array by commas, \n",
    "#First cell to print grain number\n",
    "#Second cell blank as we will not print Label column\n",
    "\n",
    "grain_number = 1\n",
    "for region_props in regions:\n",
    "    output_file.write(str(grain_number) + ',')\n",
    "    #output cluster properties to the excel file\n",
    "#    output_file.write(str(region_props['Label']))\n",
    "    for i,prop in enumerate(propList):\n",
    "        if(prop == 'Area'): \n",
    "            to_print = region_props[prop]*pixels_to_um**2   #Convert pixel square to um square\n",
    "        elif(prop == 'orientation'): \n",
    "            to_print = region_props[prop]*57.2958  #Convert to degrees from radians\n",
    "        elif(prop.find('Intensity') < 0):          # Any prop without Intensity in its name\n",
    "            to_print = region_props[prop]*pixels_to_um\n",
    "        else: \n",
    "            to_print = region_props[prop]     #Reamining props, basically the ones with Intensity in its name\n",
    "        output_file.write(',' + str(to_print))\n",
    "    output_file.write('\\n')\n",
    "    grain_number += 1\n",
    "    \n",
    "output_file.close()   #Closes the file, otherwise it would be read only. "
   ]
  },
  {
   "cell_type": "code",
   "execution_count": 31,
   "id": "0f8d4513-5d81-4446-af25-f34b215875a3",
   "metadata": {},
   "outputs": [],
   "source": [
    "import cv2\n",
    "import numpy as np\n",
    "from matplotlib import pyplot as plt\n",
    "from scipy import ndimage\n",
    "from skimage import measure, color, io\n",
    "from skimage.segmentation import clear_border"
   ]
  },
  {
   "cell_type": "code",
   "execution_count": 7,
   "id": "4189d275-25ab-42d8-8d36-ccc9799cc480",
   "metadata": {},
   "outputs": [],
   "source": [
    "img1 = cv2.imread('imgs/grains2.jpg')\n",
    "img = cv2.cvtColor(img1, cv2.COLOR_BGR2GRAY)"
   ]
  },
  {
   "cell_type": "code",
   "execution_count": 8,
   "id": "9d576189-c930-4092-b916-d4543540ae2a",
   "metadata": {},
   "outputs": [],
   "source": [
    "pixel_to_um = 0.5"
   ]
  },
  {
   "cell_type": "code",
   "execution_count": 9,
   "id": "dfe0a734-6485-48bc-b394-26fdb41ffaf5",
   "metadata": {},
   "outputs": [],
   "source": [
    "ret, thresh = cv2.threshold(img, 0, 255, cv2.THRESH_BINARY+cv2.THRESH_OTSU)\n",
    "kernel = np.ones((3,3), np.uint8)"
   ]
  },
  {
   "cell_type": "code",
   "execution_count": 32,
   "id": "2ae7a8c3-877f-40e4-b3a4-2e9e1b5953f2",
   "metadata": {},
   "outputs": [],
   "source": [
    "opening = cv2.morphologyEx(thresh, cv2.MORPH_OPEN, kernel, iterations = 1)\n",
    "opening = clear_border(opening)\n",
    "sure_bg = cv2.dilate(opening, kernel, iterations = 2)\n",
    "dist_transform = cv2.distanceTransform(opening, cv2.DIST_L2, 3) # dist L2 refers to euclidean distance \n",
    "ret2, sure_fg = cv2.threshold(dist_transform, 0.2 * dist_transform.max(), 255, 0)"
   ]
  },
  {
   "cell_type": "code",
   "execution_count": 33,
   "id": "f29529fd-1abe-4bdd-ae09-709fab6c5829",
   "metadata": {},
   "outputs": [],
   "source": [
    "sure_fg = np.uint8(sure_fg)\n",
    "unknown = cv2.subtract(sure_bg, sure_fg)"
   ]
  },
  {
   "cell_type": "code",
   "execution_count": 34,
   "id": "9f15b005-0a44-4a1a-833d-9117230aaa51",
   "metadata": {},
   "outputs": [],
   "source": [
    "cv2.imshow('no', unknown)\n",
    "cv2.waitKey(0)\n",
    "cv2.destroyAllWindows()"
   ]
  },
  {
   "cell_type": "code",
   "execution_count": 35,
   "id": "97762583-0868-48c2-8da2-c8f6ba23711e",
   "metadata": {},
   "outputs": [],
   "source": [
    "## markers \n",
    "ret3, markers = cv2.connectedComponents(sure_fg)\n",
    "markers = markers+10"
   ]
  },
  {
   "cell_type": "code",
   "execution_count": 36,
   "id": "3910add6-f72a-44fd-b0d3-43a4d541f451",
   "metadata": {},
   "outputs": [],
   "source": [
    "markers[unknown == 255] = 0"
   ]
  },
  {
   "cell_type": "code",
   "execution_count": 37,
   "id": "6e9f8319-c583-4da4-a541-dde248944400",
   "metadata": {},
   "outputs": [
    {
     "data": {
      "text/plain": [
       "<matplotlib.image.AxesImage at 0x274859be840>"
      ]
     },
     "execution_count": 37,
     "metadata": {},
     "output_type": "execute_result"
    },
    {
     "data": {
      "image/png": "[encoded data removed]",
      "text/plain": [
       "<Figure size 640x480 with 1 Axes>"
      ]
     },
     "metadata": {},
     "output_type": "display_data"
    }
   ],
   "source": [
    "plt.imshow(markers, cmap='jet')"
   ]
  },
  {
   "cell_type": "code",
   "execution_count": 38,
   "id": "6ac59dfc-77c7-45ca-bb73-b93842cde519",
   "metadata": {},
   "outputs": [],
   "source": [
    "# WATERSHED"
   ]
  },
  {
   "cell_type": "code",
   "execution_count": 39,
   "id": "7c6ace91-a703-4491-b1bd-40b132ec9d96",
   "metadata": {},
   "outputs": [],
   "source": [
    "markesrs = cv2.watershed(img1, markers)"
   ]
  },
  {
   "cell_type": "code",
   "execution_count": 40,
   "id": "aef4a0a2-f1f7-478d-bb5d-ba66bd6ccf0e",
   "metadata": {},
   "outputs": [],
   "source": [
    "img1[markers == -1] = [0, 255, 255]\n",
    "img2 = color.label2rgb(markers, bg_label=0)"
   ]
  },
  {
   "cell_type": "code",
   "execution_count": 42,
   "id": "764c241d-3b33-4bb1-835e-8755766ee559",
   "metadata": {},
   "outputs": [],
   "source": [
    "regions = measure.regionprops(markers, intensity_image = img)"
   ]
  },
  {
   "cell_type": "code",
   "execution_count": null,
   "id": "168e3e02-6c3c-461f-98e6-fbefbbb8ce3b",
   "metadata": {},
   "outputs": [],
   "source": []
  },
  {
   "cell_type": "code",
   "execution_count": 41,
   "id": "1afb5ed6-abf1-4fff-a5bd-ac0f110da988",
   "metadata": {},
   "outputs": [],
   "source": [
    "cv2.imshow('on', img1)\n",
    "cv2.imshow('off', img2)\n",
    "cv2.waitKey(0)\n",
    "cv2.destroyAllWindows()"
   ]
  },
  {
   "cell_type": "code",
   "execution_count": 30,
   "id": "6d4074fd-20b2-40f2-803f-b1906342d380",
   "metadata": {},
   "outputs": [],
   "source": []
  },
  {
   "cell_type": "code",
   "execution_count": null,
   "id": "0781ac50-31b1-4d78-85c2-ed72774c2ed8",
   "metadata": {},
   "outputs": [],
   "source": []
  }
 ],
 "metadata": {
  "kernelspec": {
   "display_name": "Python 3 (ipykernel)",
   "language": "python",
   "name": "python3"
  },
  "language_info": {
   "codemirror_mode": {
    "name": "ipython",
    "version": 3
   },
   "file_extension": ".py",
   "mimetype": "text/x-python",
   "name": "python",
   "nbconvert_exporter": "python",
   "pygments_lexer": "ipython3",
   "version": "3.12.4"
  }
 },
 "nbformat": 4,
 "nbformat_minor": 5
}
